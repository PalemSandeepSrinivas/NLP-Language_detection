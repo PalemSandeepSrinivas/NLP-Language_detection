{
  "cells": [
    {
      "cell_type": "markdown",
      "metadata": {
        "id": "view-in-github",
        "colab_type": "text"
      },
      "source": [
        "<a href=\"https://colab.research.google.com/github/PalemSandeepSrinivas/NLP-Language_detection/blob/main/Language_detection.ipynb\" target=\"_parent\"><img src=\"https://colab.research.google.com/assets/colab-badge.svg\" alt=\"Open In Colab\"/></a>"
      ]
    },
    {
      "cell_type": "code",
      "source": [
        "from google.colab import drive\n",
        "drive.mount('/content/drive')"
      ],
      "metadata": {
        "colab": {
          "base_uri": "https://localhost:8080/"
        },
        "id": "p28HnJtvnja8",
        "outputId": "ee79ffd7-b8b3-44f9-df15-7386f27eb3a8"
      },
      "id": "p28HnJtvnja8",
      "execution_count": 1,
      "outputs": [
        {
          "output_type": "stream",
          "name": "stdout",
          "text": [
            "Mounted at /content/drive\n"
          ]
        }
      ]
    },
    {
      "cell_type": "code",
      "execution_count": 2,
      "id": "376120f8",
      "metadata": {
        "id": "376120f8"
      },
      "outputs": [],
      "source": [
        "# Importing Necessary Libraries\n",
        "import pandas as pd\n",
        "import numpy as np\n",
        "import matplotlib.pyplot as plt\n",
        "import seaborn as sns\n",
        "import nltk\n",
        "from sklearn.feature_extraction.text import CountVectorizer,TfidfVectorizer\n",
        "from sklearn.model_selection import train_test_split\n",
        "import re\n",
        "import string\n",
        "import codecs\n",
        "from sklearn.metrics import accuracy_score,classification_report,confusion_matrix"
      ]
    },
    {
      "cell_type": "code",
      "execution_count": 3,
      "id": "30d6bdc8",
      "metadata": {
        "colab": {
          "base_uri": "https://localhost:8080/",
          "height": 241
        },
        "id": "30d6bdc8",
        "outputId": "1ecc56f9-20a5-4006-c9f3-7fe344ed6d02"
      },
      "outputs": [
        {
          "output_type": "execute_result",
          "data": {
            "text/plain": [
              "<pandas.io.formats.style.Styler at 0x7f534ebf1f90>"
            ],
            "text/html": [
              "<style type=\"text/css\">\n",
              "</style>\n",
              "<table id=\"T_80abf_\" class=\"dataframe\">\n",
              "  <thead>\n",
              "    <tr>\n",
              "      <th class=\"blank level0\" >&nbsp;</th>\n",
              "      <th class=\"col_heading level0 col0\" >Text</th>\n",
              "      <th class=\"col_heading level0 col1\" >language</th>\n",
              "    </tr>\n",
              "  </thead>\n",
              "  <tbody>\n",
              "    <tr>\n",
              "      <th id=\"T_80abf_level0_row0\" class=\"row_heading level0 row0\" >0</th>\n",
              "      <td id=\"T_80abf_row0_col0\" class=\"data row0 col0\" >klement gottwaldi surnukeha palsameeriti ning paigutati mausoleumi surnukeha oli aga liiga hilja ja oskamatult palsameeritud ning hakkas ilmutama lagunemise tundemärke  aastal viidi ta surnukeha mausoleumist ära ja kremeeriti zlíni linn kandis aastatel – nime gottwaldov ukrainas harkivi oblastis kandis zmiivi linn aastatel – nime gotvald</td>\n",
              "      <td id=\"T_80abf_row0_col1\" class=\"data row0 col1\" >Estonian</td>\n",
              "    </tr>\n",
              "    <tr>\n",
              "      <th id=\"T_80abf_level0_row1\" class=\"row_heading level0 row1\" >1</th>\n",
              "      <td id=\"T_80abf_row1_col0\" class=\"data row1 col0\" >sebes joseph pereira thomas  på eng the jesuits and the sino-russian treaty of nerchinsk  the diary of thomas pereira bibliotheca instituti historici s i --   rome libris </td>\n",
              "      <td id=\"T_80abf_row1_col1\" class=\"data row1 col1\" >Swedish</td>\n",
              "    </tr>\n",
              "    <tr>\n",
              "      <th id=\"T_80abf_level0_row2\" class=\"row_heading level0 row2\" >2</th>\n",
              "      <td id=\"T_80abf_row2_col0\" class=\"data row2 col0\" >ถนนเจริญกรุง อักษรโรมัน thanon charoen krung เริ่มตั้งแต่ถนนสนามไชยถึงแม่น้ำเจ้าพระยาที่ถนนตก กรุงเทพมหานคร เป็นถนนรุ่นแรกที่ใช้เทคนิคการสร้างแบบตะวันตก ปัจจุบันผ่านพื้นที่เขตพระนคร เขตป้อมปราบศัตรูพ่าย เขตสัมพันธวงศ์ เขตบางรัก เขตสาทร และเขตบางคอแหลม</td>\n",
              "      <td id=\"T_80abf_row2_col1\" class=\"data row2 col1\" >Thai</td>\n",
              "    </tr>\n",
              "    <tr>\n",
              "      <th id=\"T_80abf_level0_row3\" class=\"row_heading level0 row3\" >3</th>\n",
              "      <td id=\"T_80abf_row3_col0\" class=\"data row3 col0\" >விசாகப்பட்டினம் தமிழ்ச்சங்கத்தை இந்துப் பத்திரிகை-விசாகப்பட்டின ஆசிரியர் சம்பத்துடன் இணைந்து விரிவுபடுத்தினார்  ஆண்டுகள் தொடர்ந்து செயலராக இருந்து தமிழ்மன்றத்தை நடத்திச் சென்றார்  கோவை செம்மொழி மாநாட்டில் \"தமிழ்ச்சங்கங்களும் தமிழும்\" எனும் தலைப்பில் பிற மாநிலங்களில் தமிழ்வளர்ச்சி பற்றி கட்டுரை வாசித்தார்</td>\n",
              "      <td id=\"T_80abf_row3_col1\" class=\"data row3 col1\" >Tamil</td>\n",
              "    </tr>\n",
              "    <tr>\n",
              "      <th id=\"T_80abf_level0_row4\" class=\"row_heading level0 row4\" >4</th>\n",
              "      <td id=\"T_80abf_row4_col0\" class=\"data row4 col0\" >de spons behoort tot het geslacht haliclona en behoort tot de familie chalinidae de wetenschappelijke naam van de soort werd voor het eerst geldig gepubliceerd in  door kudelin</td>\n",
              "      <td id=\"T_80abf_row4_col1\" class=\"data row4 col1\" >Dutch</td>\n",
              "    </tr>\n",
              "  </tbody>\n",
              "</table>\n"
            ]
          },
          "metadata": {},
          "execution_count": 3
        }
      ],
      "source": [
        "# Read the dataset\n",
        "data = pd.read_csv('/content/drive/MyDrive/language_detection.csv')\n",
        "#print the top five rows  of the data\n",
        "data.head().style.background_gradient(cmap='Red')"
      ]
    },
    {
      "cell_type": "code",
      "execution_count": 4,
      "id": "fd5de0ea",
      "metadata": {
        "colab": {
          "base_uri": "https://localhost:8080/"
        },
        "id": "fd5de0ea",
        "outputId": "ab0ac41b-7c5e-4f6c-c7b7-b948b1213c4c"
      },
      "outputs": [
        {
          "output_type": "execute_result",
          "data": {
            "text/plain": [
              "(22000, 2)"
            ]
          },
          "metadata": {},
          "execution_count": 4
        }
      ],
      "source": [
        "#Check the datashape\n",
        "data.shape"
      ]
    },
    {
      "cell_type": "code",
      "execution_count": 5,
      "id": "32e6a81e",
      "metadata": {
        "colab": {
          "base_uri": "https://localhost:8080/"
        },
        "id": "32e6a81e",
        "outputId": "4018c7b7-b871-4fc0-bf53-16d1c4698ed7"
      },
      "outputs": [
        {
          "output_type": "stream",
          "name": "stdout",
          "text": [
            "<class 'pandas.core.frame.DataFrame'>\n",
            "RangeIndex: 22000 entries, 0 to 21999\n",
            "Data columns (total 2 columns):\n",
            " #   Column    Non-Null Count  Dtype \n",
            "---  ------    --------------  ----- \n",
            " 0   Text      22000 non-null  object\n",
            " 1   language  22000 non-null  object\n",
            "dtypes: object(2)\n",
            "memory usage: 343.9+ KB\n"
          ]
        }
      ],
      "source": [
        "#check the data inforamtion\n",
        "data.info()"
      ]
    },
    {
      "cell_type": "code",
      "execution_count": 6,
      "id": "67782155",
      "metadata": {
        "colab": {
          "base_uri": "https://localhost:8080/"
        },
        "id": "67782155",
        "outputId": "e4347090-cdea-410a-cc07-14f0a00b3533"
      },
      "outputs": [
        {
          "output_type": "execute_result",
          "data": {
            "text/plain": [
              "array(['Estonian', 'Swedish', 'Thai', 'Tamil', 'Dutch', 'Japanese',\n",
              "       'Turkish', 'Latin', 'Urdu', 'Indonesian', 'Portugese', 'French',\n",
              "       'Chinese', 'Korean', 'Hindi', 'Spanish', 'Pushto', 'Persian',\n",
              "       'Romanian', 'Russian', 'English', 'Arabic'], dtype=object)"
            ]
          },
          "metadata": {},
          "execution_count": 6
        }
      ],
      "source": [
        "#Let's find the uniue lanugaes in the data\n",
        "data['language'].unique()"
      ]
    },
    {
      "cell_type": "code",
      "source": [
        "data['language'].value_counts()"
      ],
      "metadata": {
        "colab": {
          "base_uri": "https://localhost:8080/"
        },
        "id": "T8XzFKQuhSzQ",
        "outputId": "d670bb2f-375c-41b5-fb22-25d23556d93f"
      },
      "id": "T8XzFKQuhSzQ",
      "execution_count": 53,
      "outputs": [
        {
          "output_type": "execute_result",
          "data": {
            "text/plain": [
              "Estonian      1000\n",
              "Swedish       1000\n",
              "English       1000\n",
              "Russian       1000\n",
              "Romanian      1000\n",
              "Persian       1000\n",
              "Pushto        1000\n",
              "Spanish       1000\n",
              "Hindi         1000\n",
              "Korean        1000\n",
              "Chinese       1000\n",
              "French        1000\n",
              "Portugese     1000\n",
              "Indonesian    1000\n",
              "Urdu          1000\n",
              "Latin         1000\n",
              "Turkish       1000\n",
              "Japanese      1000\n",
              "Dutch         1000\n",
              "Tamil         1000\n",
              "Thai          1000\n",
              "Arabic        1000\n",
              "Name: language, dtype: int64"
            ]
          },
          "metadata": {},
          "execution_count": 53
        }
      ]
    },
    {
      "cell_type": "code",
      "execution_count": 7,
      "id": "2696480b",
      "metadata": {
        "colab": {
          "base_uri": "https://localhost:8080/",
          "height": 424
        },
        "id": "2696480b",
        "outputId": "c3558f27-828c-4783-8b60-83f8e9255243"
      },
      "outputs": [
        {
          "output_type": "stream",
          "name": "stderr",
          "text": [
            "/usr/local/lib/python3.7/dist-packages/seaborn/_decorators.py:43: FutureWarning: Pass the following variable as a keyword arg: x. From version 0.12, the only valid positional argument will be `data`, and passing other arguments without an explicit keyword will result in an error or misinterpretation.\n",
            "  FutureWarning\n"
          ]
        },
        {
          "output_type": "display_data",
          "data": {
            "text/plain": [
              "<Figure size 1296x360 with 1 Axes>"
            ],
            "image/png": "[encoded data removed]"
          },
          "metadata": {
            "needs_background": "light"
          }
        }
      ],
      "source": [
        "#Let's visualize  the languages using the countplot\n",
        "plt.figure(figsize=(18,5))\n",
        "sns.countplot(data['language'],palette='rainbow')\n",
        "plt.tight_layout()"
      ]
    },
    {
      "cell_type": "markdown",
      "id": "2609a975",
      "metadata": {
        "id": "2609a975"
      },
      "source": [
        "# Data Pre_Processing"
      ]
    },
    {
      "cell_type": "code",
      "execution_count": 8,
      "id": "ef907ce0",
      "metadata": {
        "colab": {
          "base_uri": "https://localhost:8080/",
          "height": 363
        },
        "id": "ef907ce0",
        "outputId": "41217c14-bb26-4aa7-df6d-ab8c7216b345"
      },
      "outputs": [
        {
          "output_type": "execute_result",
          "data": {
            "text/plain": [
              "                                                Text  language\n",
              "0  klement gottwaldi surnukeha palsameeriti ning ...  Estonian\n",
              "1  sebes joseph pereira thomas  på eng the jesuit...   Swedish\n",
              "2  ถนนเจริญกรุง อักษรโรมัน thanon charoen krung เ...      Thai\n",
              "3  விசாகப்பட்டினம் தமிழ்ச்சங்கத்தை இந்துப் பத்திர...     Tamil\n",
              "4  de spons behoort tot het geslacht haliclona en...     Dutch\n",
              "5  エノが行きがかりでバスに乗ってしまい、気分が悪くなった際に助けるが、今すぐバスを降りたいと運...  Japanese\n",
              "6  tsutinalar i̇ngilizce tsuutina kanadada albert...   Turkish\n",
              "7  müller mox figura centralis circulorum doctoru...     Latin\n",
              "8  برقی بار electric charge تمام زیرجوہری ذرات کی...      Urdu\n",
              "9  シャーリー・フィールドは、サン・ベルナルド・アベニュー沿い市民センターとrtマーティン高校に...  Japanese"
            ],
            "text/html": [
              "\n",
              "  <div id=\"df-52b40843-8ece-4298-8aa5-2f538c5ce6b2\">\n",
              "    <div class=\"colab-df-container\">\n",
              "      <div>\n",
              "<style scoped>\n",
              "    .dataframe tbody tr th:only-of-type {\n",
              "        vertical-align: middle;\n",
              "    }\n",
              "\n",
              "    .dataframe tbody tr th {\n",
              "        vertical-align: top;\n",
              "    }\n",
              "\n",
              "    .dataframe thead th {\n",
              "        text-align: right;\n",
              "    }\n",
              "</style>\n",
              "<table border=\"1\" class=\"dataframe\">\n",
              "  <thead>\n",
              "    <tr style=\"text-align: right;\">\n",
              "      <th></th>\n",
              "      <th>Text</th>\n",
              "      <th>language</th>\n",
              "    </tr>\n",
              "  </thead>\n",
              "  <tbody>\n",
              "    <tr>\n",
              "      <th>0</th>\n",
              "      <td>klement gottwaldi surnukeha palsameeriti ning ...</td>\n",
              "      <td>Estonian</td>\n",
              "    </tr>\n",
              "    <tr>\n",
              "      <th>1</th>\n",
              "      <td>sebes joseph pereira thomas  på eng the jesuit...</td>\n",
              "      <td>Swedish</td>\n",
              "    </tr>\n",
              "    <tr>\n",
              "      <th>2</th>\n",
              "      <td>ถนนเจริญกรุง อักษรโรมัน thanon charoen krung เ...</td>\n",
              "      <td>Thai</td>\n",
              "    </tr>\n",
              "    <tr>\n",
              "      <th>3</th>\n",
              "      <td>விசாகப்பட்டினம் தமிழ்ச்சங்கத்தை இந்துப் பத்திர...</td>\n",
              "      <td>Tamil</td>\n",
              "    </tr>\n",
              "    <tr>\n",
              "      <th>4</th>\n",
              "      <td>de spons behoort tot het geslacht haliclona en...</td>\n",
              "      <td>Dutch</td>\n",
              "    </tr>\n",
              "    <tr>\n",
              "      <th>5</th>\n",
              "      <td>エノが行きがかりでバスに乗ってしまい、気分が悪くなった際に助けるが、今すぐバスを降りたいと運...</td>\n",
              "      <td>Japanese</td>\n",
              "    </tr>\n",
              "    <tr>\n",
              "      <th>6</th>\n",
              "      <td>tsutinalar i̇ngilizce tsuutina kanadada albert...</td>\n",
              "      <td>Turkish</td>\n",
              "    </tr>\n",
              "    <tr>\n",
              "      <th>7</th>\n",
              "      <td>müller mox figura centralis circulorum doctoru...</td>\n",
              "      <td>Latin</td>\n",
              "    </tr>\n",
              "    <tr>\n",
              "      <th>8</th>\n",
              "      <td>برقی بار electric charge تمام زیرجوہری ذرات کی...</td>\n",
              "      <td>Urdu</td>\n",
              "    </tr>\n",
              "    <tr>\n",
              "      <th>9</th>\n",
              "      <td>シャーリー・フィールドは、サン・ベルナルド・アベニュー沿い市民センターとrtマーティン高校に...</td>\n",
              "      <td>Japanese</td>\n",
              "    </tr>\n",
              "  </tbody>\n",
              "</table>\n",
              "</div>\n",
              "      <button class=\"colab-df-convert\" onclick=\"convertToInteractive('df-52b40843-8ece-4298-8aa5-2f538c5ce6b2')\"\n",
              "              title=\"Convert this dataframe to an interactive table.\"\n",
              "              style=\"display:none;\">\n",
              "        \n",
              "  <svg xmlns=\"http://www.w3.org/2000/svg\" height=\"24px\"viewBox=\"0 0 24 24\"\n",
              "       width=\"24px\">\n",
              "    <path d=\"M0 0h24v24H0V0z\" fill=\"none\"/>\n",
              "    <path d=\"M18.56 5.44l.94 2.06.94-2.06 2.06-.94-2.06-.94-.94-2.06-.94 2.06-2.06.94zm-11 1L8.5 8.5l.94-2.06 2.06-.94-2.06-.94L8.5 2.5l-.94 2.06-2.06.94zm10 10l.94 2.06.94-2.06 2.06-.94-2.06-.94-.94-2.06-.94 2.06-2.06.94z\"/><path d=\"M17.41 7.96l-1.37-1.37c-.4-.4-.92-.59-1.43-.59-.52 0-1.04.2-1.43.59L10.3 9.45l-7.72 7.72c-.78.78-.78 2.05 0 2.83L4 21.41c.39.39.9.59 1.41.59.51 0 1.02-.2 1.41-.59l7.78-7.78 2.81-2.81c.8-.78.8-2.07 0-2.86zM5.41 20L4 18.59l7.72-7.72 1.47 1.35L5.41 20z\"/>\n",
              "  </svg>\n",
              "      </button>\n",
              "      \n",
              "  <style>\n",
              "    .colab-df-container {\n",
              "      display:flex;\n",
              "      flex-wrap:wrap;\n",
              "      gap: 12px;\n",
              "    }\n",
              "\n",
              "    .colab-df-convert {\n",
              "      background-color: #E8F0FE;\n",
              "      border: none;\n",
              "      border-radius: 50%;\n",
              "      cursor: pointer;\n",
              "      display: none;\n",
              "      fill: #1967D2;\n",
              "      height: 32px;\n",
              "      padding: 0 0 0 0;\n",
              "      width: 32px;\n",
              "    }\n",
              "\n",
              "    .colab-df-convert:hover {\n",
              "      background-color: #E2EBFA;\n",
              "      box-shadow: 0px 1px 2px rgba(60, 64, 67, 0.3), 0px 1px 3px 1px rgba(60, 64, 67, 0.15);\n",
              "      fill: #174EA6;\n",
              "    }\n",
              "\n",
              "    [theme=dark] .colab-df-convert {\n",
              "      background-color: #3B4455;\n",
              "      fill: #D2E3FC;\n",
              "    }\n",
              "\n",
              "    [theme=dark] .colab-df-convert:hover {\n",
              "      background-color: #434B5C;\n",
              "      box-shadow: 0px 1px 3px 1px rgba(0, 0, 0, 0.15);\n",
              "      filter: drop-shadow(0px 1px 2px rgba(0, 0, 0, 0.3));\n",
              "      fill: #FFFFFF;\n",
              "    }\n",
              "  </style>\n",
              "\n",
              "      <script>\n",
              "        const buttonEl =\n",
              "          document.querySelector('#df-52b40843-8ece-4298-8aa5-2f538c5ce6b2 button.colab-df-convert');\n",
              "        buttonEl.style.display =\n",
              "          google.colab.kernel.accessAllowed ? 'block' : 'none';\n",
              "\n",
              "        async function convertToInteractive(key) {\n",
              "          const element = document.querySelector('#df-52b40843-8ece-4298-8aa5-2f538c5ce6b2');\n",
              "          const dataTable =\n",
              "            await google.colab.kernel.invokeFunction('convertToInteractive',\n",
              "                                                     [key], {});\n",
              "          if (!dataTable) return;\n",
              "\n",
              "          const docLinkHtml = 'Like what you see? Visit the ' +\n",
              "            '<a target=\"_blank\" href=https://colab.research.google.com/notebooks/data_table.ipynb>data table notebook</a>'\n",
              "            + ' to learn more about interactive tables.';\n",
              "          element.innerHTML = '';\n",
              "          dataTable['output_type'] = 'display_data';\n",
              "          await google.colab.output.renderOutput(dataTable, element);\n",
              "          const docLink = document.createElement('div');\n",
              "          docLink.innerHTML = docLinkHtml;\n",
              "          element.appendChild(docLink);\n",
              "        }\n",
              "      </script>\n",
              "    </div>\n",
              "  </div>\n",
              "  "
            ]
          },
          "metadata": {},
          "execution_count": 8
        }
      ],
      "source": [
        "data[['Text','language']][:10]"
      ]
    },
    {
      "cell_type": "markdown",
      "id": "d0fd2aff",
      "metadata": {
        "id": "d0fd2aff"
      },
      "source": [
        "# Divided the data into X and y"
      ]
    },
    {
      "cell_type": "code",
      "execution_count": 9,
      "id": "a774a713",
      "metadata": {
        "id": "a774a713"
      },
      "outputs": [],
      "source": [
        "#Let's divided the data into X and y\n",
        "X=data['Text'].values\n",
        "y=data['language'].values"
      ]
    },
    {
      "cell_type": "markdown",
      "id": "92972507",
      "metadata": {
        "id": "92972507"
      },
      "source": [
        "# Convert the data into vector forms because our machine can't read the text data in this process we use tdifvectorizer for covert the vectores"
      ]
    },
    {
      "cell_type": "code",
      "execution_count": 10,
      "id": "28203347",
      "metadata": {
        "id": "28203347"
      },
      "outputs": [],
      "source": [
        "#And convert the text into array using the tdifvectorizer because our \n",
        "tfid=TfidfVectorizer()\n",
        "tfid.fit(X)\n",
        "X=tfid.transform(X)"
      ]
    },
    {
      "cell_type": "markdown",
      "id": "308be4dc",
      "metadata": {
        "id": "308be4dc"
      },
      "source": [
        "# Divided the data into train and test "
      ]
    },
    {
      "cell_type": "code",
      "execution_count": 11,
      "id": "a679f7d4",
      "metadata": {
        "id": "a679f7d4"
      },
      "outputs": [],
      "source": [
        "#Divided the data into train_test_spilt\n",
        "X_train,X_test,y_train,y_test=train_test_split(X,y,test_size=0.30,random_state=42)"
      ]
    },
    {
      "cell_type": "code",
      "execution_count": 12,
      "id": "e5eedbfd",
      "metadata": {
        "colab": {
          "base_uri": "https://localhost:8080/"
        },
        "id": "e5eedbfd",
        "outputId": "8daf7fd8-f891-4f32-b685-972d8f37d587"
      },
      "outputs": [
        {
          "output_type": "stream",
          "name": "stdout",
          "text": [
            "(6600, 277720)\n",
            "(6600,)\n",
            "(15400, 277720)\n",
            "(15400,)\n"
          ]
        }
      ],
      "source": [
        "#Print the train and test shape\n",
        "print(X_test.shape)\n",
        "print(y_test.shape)\n",
        "print(X_train.shape)\n",
        "print(y_train.shape)"
      ]
    },
    {
      "cell_type": "markdown",
      "id": "e47a4a67",
      "metadata": {
        "id": "e47a4a67"
      },
      "source": [
        "# MultinomialNB"
      ]
    },
    {
      "cell_type": "code",
      "execution_count": 13,
      "id": "89ef1a9c",
      "metadata": {
        "colab": {
          "base_uri": "https://localhost:8080/"
        },
        "id": "89ef1a9c",
        "outputId": "96596160-99fe-4bb1-afe9-c2149abd708e"
      },
      "outputs": [
        {
          "output_type": "execute_result",
          "data": {
            "text/plain": [
              "MultinomialNB()"
            ]
          },
          "metadata": {},
          "execution_count": 13
        }
      ],
      "source": [
        "#Import the MultinomialNB algorithm to train the our model\n",
        "from sklearn.naive_bayes import MultinomialNB\n",
        "#install the model\n",
        "multinomial=MultinomialNB()\n",
        "#fit the train data to our model\n",
        "multinomial.fit(X_train,y_train)"
      ]
    },
    {
      "cell_type": "code",
      "execution_count": 14,
      "id": "a3b1bc2b",
      "metadata": {
        "colab": {
          "base_uri": "https://localhost:8080/"
        },
        "id": "a3b1bc2b",
        "outputId": "7138a201-54ea-4482-a229-ef5723832dca"
      },
      "outputs": [
        {
          "output_type": "execute_result",
          "data": {
            "text/plain": [
              "array(['Japanese', 'Russian', 'Latin', ..., 'Spanish', 'Arabic',\n",
              "       'Estonian'], dtype='<U10')"
            ]
          },
          "metadata": {},
          "execution_count": 14
        }
      ],
      "source": [
        "#Prediction to the test data\n",
        "multinomial_pred=multinomial.predict(X_test)\n",
        "multinomial_pred"
      ]
    },
    {
      "cell_type": "code",
      "execution_count": 15,
      "id": "c644b418",
      "metadata": {
        "colab": {
          "base_uri": "https://localhost:8080/"
        },
        "id": "c644b418",
        "outputId": "e8d75984-8006-41cb-e790-9cf9500a724c"
      },
      "outputs": [
        {
          "output_type": "stream",
          "name": "stdout",
          "text": [
            "multinomial score for test data:95.71%\n",
            "multinomial score for train data:98.41%\n",
            "accuracy_score: 95.71%\n"
          ]
        }
      ],
      "source": [
        "#Let's print the train score and test score to the model\n",
        "print('multinomial score for test data:{}%'.format(round(multinomial.score(X_test,y_test)*100,2)))\n",
        "print('multinomial score for train data:{}%'.format(round(multinomial.score(X_train,y_train)*100,2)))\n",
        "#print the accuracy_score\n",
        "print('accuracy_score: {}%'.format(round(accuracy_score(y_test,multinomial_pred)*100,2)))"
      ]
    },
    {
      "cell_type": "markdown",
      "id": "40b74589",
      "metadata": {
        "id": "40b74589"
      },
      "source": [
        "# Classification_report"
      ]
    },
    {
      "cell_type": "code",
      "execution_count": 16,
      "id": "b3ea5503",
      "metadata": {
        "colab": {
          "base_uri": "https://localhost:8080/"
        },
        "id": "b3ea5503",
        "outputId": "3a06382e-7544-4fd4-ffb7-75faede81595"
      },
      "outputs": [
        {
          "output_type": "stream",
          "name": "stdout",
          "text": [
            "              precision    recall  f1-score   support\n",
            "\n",
            "      Arabic       1.00      1.00      1.00       300\n",
            "     Chinese       0.74      0.85      0.79       291\n",
            "       Dutch       0.99      0.98      0.99       313\n",
            "     English       0.68      1.00      0.81       289\n",
            "    Estonian       0.99      0.96      0.98       308\n",
            "      French       0.93      0.99      0.96       287\n",
            "       Hindi       1.00      0.98      0.99       314\n",
            "  Indonesian       0.99      0.98      0.98       295\n",
            "    Japanese       0.99      0.62      0.76       302\n",
            "      Korean       1.00      0.98      0.99       296\n",
            "       Latin       0.99      0.91      0.94       312\n",
            "     Persian       1.00      1.00      1.00       299\n",
            "   Portugese       1.00      0.96      0.98       293\n",
            "      Pushto       1.00      0.97      0.98       303\n",
            "    Romanian       0.98      0.98      0.98       291\n",
            "     Russian       0.98      0.99      0.99       302\n",
            "     Spanish       0.96      0.99      0.98       287\n",
            "     Swedish       0.99      1.00      1.00       290\n",
            "       Tamil       1.00      0.99      0.99       301\n",
            "        Thai       1.00      0.98      0.99       305\n",
            "     Turkish       0.99      0.98      0.99       298\n",
            "        Urdu       1.00      0.98      0.99       324\n",
            "\n",
            "    accuracy                           0.96      6600\n",
            "   macro avg       0.96      0.96      0.96      6600\n",
            "weighted avg       0.97      0.96      0.96      6600\n",
            "\n"
          ]
        }
      ],
      "source": [
        "classification=classification_report(y_test,multinomial_pred)\n",
        "print(classification)"
      ]
    },
    {
      "cell_type": "markdown",
      "id": "7ce92602",
      "metadata": {
        "id": "7ce92602"
      },
      "source": [
        "# Confusion_matrix"
      ]
    },
    {
      "cell_type": "code",
      "execution_count": 55,
      "id": "9373e7d2",
      "metadata": {
        "colab": {
          "base_uri": "https://localhost:8080/",
          "height": 636
        },
        "id": "9373e7d2",
        "outputId": "d68c2865-3569-4dae-e73e-97b360e96036"
      },
      "outputs": [
        {
          "output_type": "display_data",
          "data": {
            "text/plain": [
              "<Figure size 1080x720 with 2 Axes>"
            ],
            "image/png": "[encoded data removed]"
          },
          "metadata": {
            "needs_background": "light"
          }
        }
      ],
      "source": [
        "confusion=confusion_matrix(y_test,multinomial_pred)\n",
        "plt.figure(figsize=(15,10))\n",
        "sns.heatmap(confusion,annot=True,cmap=\"YlGnBu\",xticklabels=['Estonian', 'Swedish', 'Thai', 'Tamil', 'Dutch', 'Japanese',\n",
        "       'Turkish', 'Latin', 'Urdu', 'Indonesian', 'Portugese', 'French',\n",
        "       'Chinese', 'Korean', 'Hindi', 'Spanish', 'Pushto', 'Persian',\n",
        "       'Romanian', 'Russian', 'English', 'Arabic'], yticklabels=['Estonian', 'Swedish', 'Thai', 'Tamil', 'Dutch', 'Japanese',\n",
        "       'Turkish', 'Latin', 'Urdu', 'Indonesian', 'Portugese', 'French',\n",
        "       'Chinese', 'Korean', 'Hindi', 'Spanish', 'Pushto', 'Persian',\n",
        "       'Romanian', 'Russian', 'English', 'Arabic'])\n",
        "plt.show()"
      ]
    },
    {
      "cell_type": "code",
      "execution_count": 18,
      "id": "0ff2cccc",
      "metadata": {
        "colab": {
          "base_uri": "https://localhost:8080/"
        },
        "id": "0ff2cccc",
        "outputId": "4af08622-f1ab-44c7-f166-f9a55f7c4e00"
      },
      "outputs": [
        {
          "output_type": "execute_result",
          "data": {
            "text/plain": [
              "DecisionTreeClassifier()"
            ]
          },
          "metadata": {},
          "execution_count": 18
        }
      ],
      "source": [
        "#Let's check the Decision tree Algorithm to our model\n",
        "from sklearn.tree import DecisionTreeClassifier\n",
        "#install the model\n",
        "tree=DecisionTreeClassifier()\n",
        "#Let's fit the train data to our model\n",
        "tree.fit(X_train,y_train)"
      ]
    },
    {
      "cell_type": "code",
      "execution_count": 19,
      "id": "3aef648d",
      "metadata": {
        "colab": {
          "base_uri": "https://localhost:8080/"
        },
        "id": "3aef648d",
        "outputId": "f873f868-893a-4b7c-f92c-9fece430412c"
      },
      "outputs": [
        {
          "output_type": "execute_result",
          "data": {
            "text/plain": [
              "array(['Japanese', 'Russian', 'Latin', ..., 'Spanish', 'Arabic',\n",
              "       'Estonian'], dtype=object)"
            ]
          },
          "metadata": {},
          "execution_count": 19
        }
      ],
      "source": [
        "#Predictions\n",
        "tree_pred=tree.predict(X_test)\n",
        "tree_pred"
      ]
    },
    {
      "cell_type": "code",
      "execution_count": 20,
      "id": "c29947f2",
      "metadata": {
        "colab": {
          "base_uri": "https://localhost:8080/"
        },
        "id": "c29947f2",
        "outputId": "da89cea2-5c18-4eba-9f96-95640a95e499"
      },
      "outputs": [
        {
          "output_type": "stream",
          "name": "stdout",
          "text": [
            "Decison tree score for test data:89.39%\n",
            "Decison tree for train data:100.0%\n",
            "accuracy_score: 89.39%\n"
          ]
        }
      ],
      "source": [
        "#Let's print the train score and test score to the model\n",
        "print('Decison tree score for test data:{}%'.format(round(tree.score(X_test,y_test)*100,2)))\n",
        "print('Decison tree for train data:{}%'.format(round(tree.score(X_train,y_train)*100,2)))\n",
        "#print the accuracy_score\n",
        "print('accuracy_score: {}%'.format(round(accuracy_score(y_test,tree_pred)*100,2)))"
      ]
    },
    {
      "cell_type": "markdown",
      "id": "2d96ed24",
      "metadata": {
        "id": "2d96ed24"
      },
      "source": [
        "# Classification_report"
      ]
    },
    {
      "cell_type": "code",
      "execution_count": 21,
      "id": "6151b07b",
      "metadata": {
        "colab": {
          "base_uri": "https://localhost:8080/"
        },
        "id": "6151b07b",
        "outputId": "fec5b435-c118-4d33-be66-09e64ff2d57f"
      },
      "outputs": [
        {
          "output_type": "stream",
          "name": "stdout",
          "text": [
            "              precision    recall  f1-score   support\n",
            "\n",
            "      Arabic       1.00      0.98      0.99       300\n",
            "     Chinese       0.79      0.33      0.46       291\n",
            "       Dutch       0.40      0.96      0.57       313\n",
            "     English       0.84      0.90      0.87       289\n",
            "    Estonian       0.95      0.92      0.93       308\n",
            "      French       0.94      0.92      0.93       287\n",
            "       Hindi       0.99      0.96      0.97       314\n",
            "  Indonesian       0.97      0.97      0.97       295\n",
            "    Japanese       0.93      0.46      0.62       302\n",
            "      Korean       0.99      0.89      0.94       296\n",
            "       Latin       0.85      0.88      0.86       312\n",
            "     Persian       0.99      0.99      0.99       299\n",
            "   Portugese       0.97      0.93      0.95       293\n",
            "      Pushto       0.99      0.96      0.97       303\n",
            "    Romanian       0.96      0.95      0.96       291\n",
            "     Russian       0.99      0.93      0.96       302\n",
            "     Spanish       0.92      0.94      0.93       287\n",
            "     Swedish       0.99      0.99      0.99       290\n",
            "       Tamil       0.99      0.97      0.98       301\n",
            "        Thai       1.00      0.94      0.97       305\n",
            "     Turkish       0.96      0.95      0.95       298\n",
            "        Urdu       0.98      0.96      0.97       324\n",
            "\n",
            "    accuracy                           0.89      6600\n",
            "   macro avg       0.93      0.89      0.90      6600\n",
            "weighted avg       0.93      0.89      0.90      6600\n",
            "\n"
          ]
        }
      ],
      "source": [
        "#Classification report \n",
        "classification=classification_report(y_test,tree_pred)\n",
        "print(classification)"
      ]
    },
    {
      "cell_type": "markdown",
      "id": "4f93b3c0",
      "metadata": {
        "id": "4f93b3c0"
      },
      "source": [
        "# Confusion_matrix"
      ]
    },
    {
      "cell_type": "code",
      "execution_count": 56,
      "id": "a6c5336c",
      "metadata": {
        "colab": {
          "base_uri": "https://localhost:8080/",
          "height": 636
        },
        "id": "a6c5336c",
        "outputId": "b86268be-5550-4d94-987b-8f845c044b33"
      },
      "outputs": [
        {
          "output_type": "display_data",
          "data": {
            "text/plain": [
              "<Figure size 1080x720 with 2 Axes>"
            ],
            "image/png": "[encoded data removed]"
          },
          "metadata": {
            "needs_background": "light"
          }
        }
      ],
      "source": [
        "confusion=confusion_matrix(y_test,tree_pred)\n",
        "plt.figure(figsize=(15,10))\n",
        "sns.heatmap(confusion,annot=True,cmap=\"YlGnBu\",xticklabels=['Estonian', 'Swedish', 'Thai', 'Tamil', 'Dutch', 'Japanese',\n",
        "       'Turkish', 'Latin', 'Urdu', 'Indonesian', 'Portugese', 'French',\n",
        "       'Chinese', 'Korean', 'Hindi', 'Spanish', 'Pushto', 'Persian',\n",
        "       'Romanian', 'Russian', 'English', 'Arabic'], yticklabels=['Estonian', 'Swedish', 'Thai', 'Tamil', 'Dutch', 'Japanese',\n",
        "       'Turkish', 'Latin', 'Urdu', 'Indonesian', 'Portugese', 'French',\n",
        "       'Chinese', 'Korean', 'Hindi', 'Spanish', 'Pushto', 'Persian',\n",
        "       'Romanian', 'Russian', 'English', 'Arabic'])\n",
        "plt.show()"
      ]
    },
    {
      "cell_type": "markdown",
      "id": "6fa1a674",
      "metadata": {
        "id": "6fa1a674"
      },
      "source": [
        "# BernoulliNB"
      ]
    },
    {
      "cell_type": "code",
      "execution_count": 23,
      "id": "29180f39",
      "metadata": {
        "colab": {
          "base_uri": "https://localhost:8080/"
        },
        "id": "29180f39",
        "outputId": "06ce7a34-29bc-477b-b845-17d6f474d09d"
      },
      "outputs": [
        {
          "output_type": "execute_result",
          "data": {
            "text/plain": [
              "BernoulliNB()"
            ]
          },
          "metadata": {},
          "execution_count": 23
        }
      ],
      "source": [
        "#Import the BernoulliNB algorithm to train the our model\n",
        "from sklearn.naive_bayes import BernoulliNB\n",
        "#install the model\n",
        "bernoulli=BernoulliNB()\n",
        "#fit the train data to our model\n",
        "bernoulli.fit(X_train,y_train)"
      ]
    },
    {
      "cell_type": "code",
      "execution_count": 24,
      "id": "4187fe13",
      "metadata": {
        "colab": {
          "base_uri": "https://localhost:8080/"
        },
        "id": "4187fe13",
        "outputId": "aaf258b6-7d45-455a-f9ff-2fab6f131ec2"
      },
      "outputs": [
        {
          "output_type": "execute_result",
          "data": {
            "text/plain": [
              "array(['Japanese', 'Russian', 'Latin', ..., 'Spanish', 'Arabic',\n",
              "       'Estonian'], dtype='<U10')"
            ]
          },
          "metadata": {},
          "execution_count": 24
        }
      ],
      "source": [
        "#Prediction\n",
        "bernoulli_pred=bernoulli.predict(X_test)\n",
        "bernoulli_pred"
      ]
    },
    {
      "cell_type": "code",
      "execution_count": 25,
      "id": "5de4eb96",
      "metadata": {
        "colab": {
          "base_uri": "https://localhost:8080/"
        },
        "id": "5de4eb96",
        "outputId": "e7e27393-81c0-40c5-967f-ba2c90c849fc"
      },
      "outputs": [
        {
          "output_type": "stream",
          "name": "stdout",
          "text": [
            "BernoulliNB score for test data:91.15%\n",
            "BernoulliNBfor train data:96.43%\n",
            "accuracy_score: 91.15%\n"
          ]
        }
      ],
      "source": [
        "#Let's print the train score and test score to the model\n",
        "print('BernoulliNB score for test data:{}%'.format(round(bernoulli.score(X_test,y_test)*100,2)))\n",
        "print('BernoulliNBfor train data:{}%'.format(round(bernoulli.score(X_train,y_train)*100,2)))\n",
        "#print the accuracy_score\n",
        "print('accuracy_score: {}%'.format(round(accuracy_score(y_test,bernoulli_pred)*100,2)))"
      ]
    },
    {
      "cell_type": "markdown",
      "id": "9e88995c",
      "metadata": {
        "id": "9e88995c"
      },
      "source": [
        "# Classification_report"
      ]
    },
    {
      "cell_type": "code",
      "execution_count": 26,
      "id": "c8121b77",
      "metadata": {
        "colab": {
          "base_uri": "https://localhost:8080/"
        },
        "id": "c8121b77",
        "outputId": "898251a8-127d-4003-c24e-abbda2fcfa0b"
      },
      "outputs": [
        {
          "output_type": "stream",
          "name": "stdout",
          "text": [
            "              precision    recall  f1-score   support\n",
            "\n",
            "      Arabic       1.00      0.93      0.96       300\n",
            "     Chinese       0.36      0.99      0.53       291\n",
            "       Dutch       1.00      0.97      0.98       313\n",
            "     English       0.84      0.99      0.90       289\n",
            "    Estonian       1.00      0.84      0.91       308\n",
            "      French       0.97      0.98      0.98       287\n",
            "       Hindi       1.00      0.97      0.99       314\n",
            "  Indonesian       1.00      0.98      0.99       295\n",
            "    Japanese       0.94      0.50      0.65       302\n",
            "      Korean       1.00      0.71      0.83       296\n",
            "       Latin       1.00      0.83      0.90       312\n",
            "     Persian       1.00      0.99      0.99       299\n",
            "   Portugese       1.00      0.94      0.97       293\n",
            "      Pushto       1.00      0.94      0.97       303\n",
            "    Romanian       1.00      0.98      0.99       291\n",
            "     Russian       1.00      0.84      0.91       302\n",
            "     Spanish       0.99      0.98      0.99       287\n",
            "     Swedish       1.00      1.00      1.00       290\n",
            "       Tamil       1.00      0.99      0.99       301\n",
            "        Thai       1.00      0.89      0.94       305\n",
            "     Turkish       1.00      0.95      0.97       298\n",
            "        Urdu       1.00      0.90      0.95       324\n",
            "\n",
            "    accuracy                           0.91      6600\n",
            "   macro avg       0.96      0.91      0.92      6600\n",
            "weighted avg       0.96      0.91      0.92      6600\n",
            "\n"
          ]
        }
      ],
      "source": [
        "#Classification report \n",
        "classification=classification_report(y_test,bernoulli_pred)\n",
        "print(classification)"
      ]
    },
    {
      "cell_type": "markdown",
      "id": "e28b1d60",
      "metadata": {
        "id": "e28b1d60"
      },
      "source": [
        "# Confusion_matrix "
      ]
    },
    {
      "cell_type": "code",
      "execution_count": 57,
      "id": "0a796b66",
      "metadata": {
        "colab": {
          "base_uri": "https://localhost:8080/",
          "height": 636
        },
        "id": "0a796b66",
        "outputId": "91ba1f12-6166-4f92-a6fb-ed544870ae82"
      },
      "outputs": [
        {
          "output_type": "display_data",
          "data": {
            "text/plain": [
              "<Figure size 1080x720 with 2 Axes>"
            ],
            "image/png": "[encoded data removed]"
          },
          "metadata": {
            "needs_background": "light"
          }
        }
      ],
      "source": [
        "confusion=confusion_matrix(y_test,bernoulli_pred)\n",
        "plt.figure(figsize=(15,10))\n",
        "sns.heatmap(confusion,annot=True,cmap=\"YlGnBu\",xticklabels=['Estonian', 'Swedish', 'Thai', 'Tamil', 'Dutch', 'Japanese',\n",
        "       'Turkish', 'Latin', 'Urdu', 'Indonesian', 'Portugese', 'French',\n",
        "       'Chinese', 'Korean', 'Hindi', 'Spanish', 'Pushto', 'Persian',\n",
        "       'Romanian', 'Russian', 'English', 'Arabic'], yticklabels=['Estonian', 'Swedish', 'Thai', 'Tamil', 'Dutch', 'Japanese',\n",
        "       'Turkish', 'Latin', 'Urdu', 'Indonesian', 'Portugese', 'French',\n",
        "       'Chinese', 'Korean', 'Hindi', 'Spanish', 'Pushto', 'Persian',\n",
        "       'Romanian', 'Russian', 'English', 'Arabic'])\n",
        "plt.show()"
      ]
    },
    {
      "cell_type": "markdown",
      "id": "db3f6176",
      "metadata": {
        "id": "db3f6176"
      },
      "source": [
        "# RandomForestClassifier"
      ]
    },
    {
      "cell_type": "code",
      "execution_count": 28,
      "id": "b7f86585",
      "metadata": {
        "id": "b7f86585",
        "colab": {
          "base_uri": "https://localhost:8080/"
        },
        "outputId": "39c14266-9450-4c87-c022-1678bb3b09ea"
      },
      "outputs": [
        {
          "output_type": "execute_result",
          "data": {
            "text/plain": [
              "RandomForestClassifier()"
            ]
          },
          "metadata": {},
          "execution_count": 28
        }
      ],
      "source": [
        "#Import the GaussianNB algorithm to train the our model\n",
        "from sklearn.ensemble import RandomForestClassifier\n",
        "#install the model\n",
        "random=RandomForestClassifier()\n",
        "#fit the model to train data\n",
        "random.fit(X_train,y_train)"
      ]
    },
    {
      "cell_type": "code",
      "execution_count": 29,
      "id": "9896fcae",
      "metadata": {
        "id": "9896fcae",
        "colab": {
          "base_uri": "https://localhost:8080/"
        },
        "outputId": "0b816853-9183-477d-e634-3ade6a421fa2"
      },
      "outputs": [
        {
          "output_type": "execute_result",
          "data": {
            "text/plain": [
              "array(['Japanese', 'Russian', 'Latin', ..., 'Spanish', 'Arabic',\n",
              "       'Estonian'], dtype=object)"
            ]
          },
          "metadata": {},
          "execution_count": 29
        }
      ],
      "source": [
        "#Prediction\n",
        "random_pred=random.predict(X_test)\n",
        "random_pred"
      ]
    },
    {
      "cell_type": "code",
      "execution_count": 30,
      "id": "4ead6d80",
      "metadata": {
        "id": "4ead6d80",
        "colab": {
          "base_uri": "https://localhost:8080/"
        },
        "outputId": "fd699805-fe2c-4818-b372-0fc797c29b43"
      },
      "outputs": [
        {
          "output_type": "stream",
          "name": "stdout",
          "text": [
            "BernoulliNB score for test data:91.83%\n",
            "BernoulliNBfor train data:100.0%\n",
            "accuracy_score: 91.83%\n"
          ]
        }
      ],
      "source": [
        "#Let's print the train score and test score to the model\n",
        "print('BernoulliNB score for test data:{}%'.format(round(random.score(X_test,y_test)*100,2)))\n",
        "print('BernoulliNBfor train data:{}%'.format(round(random.score(X_train,y_train)*100,2)))\n",
        "#print the accuracy_score\n",
        "print('accuracy_score: {}%'.format(round(accuracy_score(y_test,random_pred)*100,2)))"
      ]
    },
    {
      "cell_type": "markdown",
      "id": "cbcee1e9",
      "metadata": {
        "id": "cbcee1e9"
      },
      "source": [
        "# Classification_report"
      ]
    },
    {
      "cell_type": "code",
      "execution_count": 31,
      "id": "c70426a5",
      "metadata": {
        "id": "c70426a5",
        "colab": {
          "base_uri": "https://localhost:8080/"
        },
        "outputId": "57ed0e23-1385-40c8-d1ad-58602eed9929"
      },
      "outputs": [
        {
          "output_type": "stream",
          "name": "stdout",
          "text": [
            "              precision    recall  f1-score   support\n",
            "\n",
            "      Arabic       1.00      0.99      1.00       300\n",
            "     Chinese       0.87      0.30      0.45       291\n",
            "       Dutch       0.43      0.98      0.59       313\n",
            "     English       0.81      0.99      0.89       289\n",
            "    Estonian       0.98      0.95      0.97       308\n",
            "      French       0.97      0.98      0.97       287\n",
            "       Hindi       1.00      0.98      0.99       314\n",
            "  Indonesian       0.99      0.98      0.98       295\n",
            "    Japanese       0.99      0.38      0.55       302\n",
            "      Korean       1.00      0.94      0.97       296\n",
            "       Latin       0.96      0.94      0.95       312\n",
            "     Persian       1.00      0.99      0.99       299\n",
            "   Portugese       0.98      0.98      0.98       293\n",
            "      Pushto       1.00      0.96      0.98       303\n",
            "    Romanian       1.00      0.98      0.99       291\n",
            "     Russian       0.99      0.96      0.97       302\n",
            "     Spanish       0.98      0.98      0.98       287\n",
            "     Swedish       1.00      1.00      1.00       290\n",
            "       Tamil       1.00      0.99      0.99       301\n",
            "        Thai       1.00      0.97      0.99       305\n",
            "     Turkish       1.00      0.98      0.99       298\n",
            "        Urdu       1.00      0.97      0.99       324\n",
            "\n",
            "    accuracy                           0.92      6600\n",
            "   macro avg       0.95      0.92      0.92      6600\n",
            "weighted avg       0.95      0.92      0.92      6600\n",
            "\n"
          ]
        }
      ],
      "source": [
        "#Classification report \n",
        "classification=classification_report(y_test,random_pred)\n",
        "print(classification)"
      ]
    },
    {
      "cell_type": "markdown",
      "id": "f691c5ba",
      "metadata": {
        "id": "f691c5ba"
      },
      "source": [
        "# Confusion_matrix"
      ]
    },
    {
      "cell_type": "code",
      "execution_count": 58,
      "id": "1c3e8f27",
      "metadata": {
        "id": "1c3e8f27",
        "colab": {
          "base_uri": "https://localhost:8080/",
          "height": 636
        },
        "outputId": "a7bf1303-0b14-48fa-8dda-5c6d10dd8593"
      },
      "outputs": [
        {
          "output_type": "display_data",
          "data": {
            "text/plain": [
              "<Figure size 1080x720 with 2 Axes>"
            ],
            "image/png": "[encoded data removed]"
          },
          "metadata": {
            "needs_background": "light"
          }
        }
      ],
      "source": [
        "confusion=confusion_matrix(y_test,random_pred)\n",
        "plt.figure(figsize=(15,10))\n",
        "sns.heatmap(confusion,annot=True,cmap=\"YlGnBu\",xticklabels=['Estonian', 'Swedish', 'Thai', 'Tamil', 'Dutch', 'Japanese',\n",
        "       'Turkish', 'Latin', 'Urdu', 'Indonesian', 'Portugese', 'French',\n",
        "       'Chinese', 'Korean', 'Hindi', 'Spanish', 'Pushto', 'Persian',\n",
        "       'Romanian', 'Russian', 'English', 'Arabic'], yticklabels=['Estonian', 'Swedish', 'Thai', 'Tamil', 'Dutch', 'Japanese',\n",
        "       'Turkish', 'Latin', 'Urdu', 'Indonesian', 'Portugese', 'French',\n",
        "       'Chinese', 'Korean', 'Hindi', 'Spanish', 'Pushto', 'Persian',\n",
        "       'Romanian', 'Russian', 'English', 'Arabic'])\n",
        "plt.show()"
      ]
    },
    {
      "cell_type": "code",
      "execution_count": 33,
      "id": "85abf7d5",
      "metadata": {
        "id": "85abf7d5"
      },
      "outputs": [],
      "source": [
        "# helper function for comparing models matric\n",
        "\n",
        "def compare_models(models,names,X_train,y_train,X_test,y_test):\n",
        "    # the libraries we need\n",
        "    import sklearn.metrics as metrics\n",
        "\n",
        "    for (model,name) in zip(models,names):\n",
        "      print(name)\n",
        "      # then predict on the test set\n",
        "      y_pred =  model.predict(X_test)\n",
        "      res = classification_report(y_test,y_pred)\n",
        "      print(\"Classification Report \\n\",res)\n",
        "      print(\"---------------------------------------------------------------------------------------\")\n"
      ]
    },
    {
      "cell_type": "code",
      "execution_count": 34,
      "id": "543e60e3",
      "metadata": {
        "id": "543e60e3",
        "colab": {
          "base_uri": "https://localhost:8080/"
        },
        "outputId": "8535824c-54a1-4b56-dec2-c37a2fe09007"
      },
      "outputs": [
        {
          "output_type": "stream",
          "name": "stdout",
          "text": [
            "multinomial\n",
            "Classification Report \n",
            "               precision    recall  f1-score   support\n",
            "\n",
            "      Arabic       1.00      1.00      1.00       300\n",
            "     Chinese       0.74      0.85      0.79       291\n",
            "       Dutch       0.99      0.98      0.99       313\n",
            "     English       0.68      1.00      0.81       289\n",
            "    Estonian       0.99      0.96      0.98       308\n",
            "      French       0.93      0.99      0.96       287\n",
            "       Hindi       1.00      0.98      0.99       314\n",
            "  Indonesian       0.99      0.98      0.98       295\n",
            "    Japanese       0.99      0.62      0.76       302\n",
            "      Korean       1.00      0.98      0.99       296\n",
            "       Latin       0.99      0.91      0.94       312\n",
            "     Persian       1.00      1.00      1.00       299\n",
            "   Portugese       1.00      0.96      0.98       293\n",
            "      Pushto       1.00      0.97      0.98       303\n",
            "    Romanian       0.98      0.98      0.98       291\n",
            "     Russian       0.98      0.99      0.99       302\n",
            "     Spanish       0.96      0.99      0.98       287\n",
            "     Swedish       0.99      1.00      1.00       290\n",
            "       Tamil       1.00      0.99      0.99       301\n",
            "        Thai       1.00      0.98      0.99       305\n",
            "     Turkish       0.99      0.98      0.99       298\n",
            "        Urdu       1.00      0.98      0.99       324\n",
            "\n",
            "    accuracy                           0.96      6600\n",
            "   macro avg       0.96      0.96      0.96      6600\n",
            "weighted avg       0.97      0.96      0.96      6600\n",
            "\n",
            "---------------------------------------------------------------------------------------\n",
            "bernoulli\n",
            "Classification Report \n",
            "               precision    recall  f1-score   support\n",
            "\n",
            "      Arabic       1.00      0.93      0.96       300\n",
            "     Chinese       0.36      0.99      0.53       291\n",
            "       Dutch       1.00      0.97      0.98       313\n",
            "     English       0.84      0.99      0.90       289\n",
            "    Estonian       1.00      0.84      0.91       308\n",
            "      French       0.97      0.98      0.98       287\n",
            "       Hindi       1.00      0.97      0.99       314\n",
            "  Indonesian       1.00      0.98      0.99       295\n",
            "    Japanese       0.94      0.50      0.65       302\n",
            "      Korean       1.00      0.71      0.83       296\n",
            "       Latin       1.00      0.83      0.90       312\n",
            "     Persian       1.00      0.99      0.99       299\n",
            "   Portugese       1.00      0.94      0.97       293\n",
            "      Pushto       1.00      0.94      0.97       303\n",
            "    Romanian       1.00      0.98      0.99       291\n",
            "     Russian       1.00      0.84      0.91       302\n",
            "     Spanish       0.99      0.98      0.99       287\n",
            "     Swedish       1.00      1.00      1.00       290\n",
            "       Tamil       1.00      0.99      0.99       301\n",
            "        Thai       1.00      0.89      0.94       305\n",
            "     Turkish       1.00      0.95      0.97       298\n",
            "        Urdu       1.00      0.90      0.95       324\n",
            "\n",
            "    accuracy                           0.91      6600\n",
            "   macro avg       0.96      0.91      0.92      6600\n",
            "weighted avg       0.96      0.91      0.92      6600\n",
            "\n",
            "---------------------------------------------------------------------------------------\n",
            "decisiontreeclassifier\n",
            "Classification Report \n",
            "               precision    recall  f1-score   support\n",
            "\n",
            "      Arabic       1.00      0.98      0.99       300\n",
            "     Chinese       0.79      0.33      0.46       291\n",
            "       Dutch       0.40      0.96      0.57       313\n",
            "     English       0.84      0.90      0.87       289\n",
            "    Estonian       0.95      0.92      0.93       308\n",
            "      French       0.94      0.92      0.93       287\n",
            "       Hindi       0.99      0.96      0.97       314\n",
            "  Indonesian       0.97      0.97      0.97       295\n",
            "    Japanese       0.93      0.46      0.62       302\n",
            "      Korean       0.99      0.89      0.94       296\n",
            "       Latin       0.85      0.88      0.86       312\n",
            "     Persian       0.99      0.99      0.99       299\n",
            "   Portugese       0.97      0.93      0.95       293\n",
            "      Pushto       0.99      0.96      0.97       303\n",
            "    Romanian       0.96      0.95      0.96       291\n",
            "     Russian       0.99      0.93      0.96       302\n",
            "     Spanish       0.92      0.94      0.93       287\n",
            "     Swedish       0.99      0.99      0.99       290\n",
            "       Tamil       0.99      0.97      0.98       301\n",
            "        Thai       1.00      0.94      0.97       305\n",
            "     Turkish       0.96      0.95      0.95       298\n",
            "        Urdu       0.98      0.96      0.97       324\n",
            "\n",
            "    accuracy                           0.89      6600\n",
            "   macro avg       0.93      0.89      0.90      6600\n",
            "weighted avg       0.93      0.89      0.90      6600\n",
            "\n",
            "---------------------------------------------------------------------------------------\n",
            "randomtreeclassifier\n",
            "Classification Report \n",
            "               precision    recall  f1-score   support\n",
            "\n",
            "      Arabic       1.00      0.99      1.00       300\n",
            "     Chinese       0.87      0.30      0.45       291\n",
            "       Dutch       0.43      0.98      0.59       313\n",
            "     English       0.81      0.99      0.89       289\n",
            "    Estonian       0.98      0.95      0.97       308\n",
            "      French       0.97      0.98      0.97       287\n",
            "       Hindi       1.00      0.98      0.99       314\n",
            "  Indonesian       0.99      0.98      0.98       295\n",
            "    Japanese       0.99      0.38      0.55       302\n",
            "      Korean       1.00      0.94      0.97       296\n",
            "       Latin       0.96      0.94      0.95       312\n",
            "     Persian       1.00      0.99      0.99       299\n",
            "   Portugese       0.98      0.98      0.98       293\n",
            "      Pushto       1.00      0.96      0.98       303\n",
            "    Romanian       1.00      0.98      0.99       291\n",
            "     Russian       0.99      0.96      0.97       302\n",
            "     Spanish       0.98      0.98      0.98       287\n",
            "     Swedish       1.00      1.00      1.00       290\n",
            "       Tamil       1.00      0.99      0.99       301\n",
            "        Thai       1.00      0.97      0.99       305\n",
            "     Turkish       1.00      0.98      0.99       298\n",
            "        Urdu       1.00      0.97      0.99       324\n",
            "\n",
            "    accuracy                           0.92      6600\n",
            "   macro avg       0.95      0.92      0.92      6600\n",
            "weighted avg       0.95      0.92      0.92      6600\n",
            "\n",
            "---------------------------------------------------------------------------------------\n"
          ]
        }
      ],
      "source": [
        "# list of model objects\n",
        "models= [multinomial,bernoulli,tree, random ]\n",
        "# list of model names\n",
        "names = ['multinomial', 'bernoulli','decisiontreeclassifier', 'randomtreeclassifier']\n",
        "# print the comparison of models\n",
        "compare_models(models,names,X_train,y_train,X_test,y_test)"
      ]
    },
    {
      "cell_type": "markdown",
      "id": "5546a31c",
      "metadata": {
        "id": "5546a31c"
      },
      "source": [
        "# Let's check the our model predict the  languages using multinomi algorithms"
      ]
    },
    {
      "cell_type": "code",
      "execution_count": 35,
      "id": "5493d6a7",
      "metadata": {
        "id": "5493d6a7",
        "colab": {
          "base_uri": "https://localhost:8080/",
          "height": 38
        },
        "outputId": "4ff24af7-df04-4484-d07c-e50fc60ffcfd"
      },
      "outputs": [
        {
          "output_type": "execute_result",
          "data": {
            "text/plain": [
              "'Prediction is Turkish'"
            ],
            "application/vnd.google.colaboratory.intrinsic+json": {
              "type": "string"
            }
          },
          "metadata": {},
          "execution_count": 35
        }
      ],
      "source": [
        "text = \"\"\"Türkiye Cumhuriyeti güçlüdür ve \n",
        "ilelebet baki kalacaktır.\"\"\"\n",
        "text=[text]\n",
        "text_int=tfid.transform(text)\n",
        "prediction=multinomial.predict(text_int)\n",
        "f\"Prediction is {prediction[0]}\""
      ]
    },
    {
      "cell_type": "code",
      "execution_count": 36,
      "id": "808cd1b2",
      "metadata": {
        "id": "808cd1b2",
        "colab": {
          "base_uri": "https://localhost:8080/",
          "height": 38
        },
        "outputId": "657344a1-7d9c-4b70-8c8b-341a27b4df6b"
      },
      "outputs": [
        {
          "output_type": "execute_result",
          "data": {
            "text/plain": [
              "'Prediction is Tamil'"
            ],
            "application/vnd.google.colaboratory.intrinsic+json": {
              "type": "string"
            }
          },
          "metadata": {},
          "execution_count": 36
        }
      ],
      "source": [
        "text = \"\"\"விசாகப்பட்டினம் தமிழ்ச்சங்கத்தை இந்துப் பத்திரிகை-விசாகப்பட்டின ஆசிரியர் சம்பத்துடன் இணைந்து விரிவுபடுத்தினார் ஆண்டுகள் தொடர்ந்து செயலராக இருந்து தமிழ்மன்றத்தை நடத்திச் சென்றார் கோவை செம்மொழி மாநாட்டில் \"தமிழ்ச்சங்கங்களும் தமிழும்\" .\"\"\"\n",
        "text=[text]\n",
        "text_int=tfid.transform(text)\n",
        "prediction=multinomial.predict(text_int)\n",
        "f\"Prediction is {prediction[0]}\""
      ]
    },
    {
      "cell_type": "code",
      "execution_count": 37,
      "id": "12a92bec",
      "metadata": {
        "id": "12a92bec",
        "colab": {
          "base_uri": "https://localhost:8080/",
          "height": 38
        },
        "outputId": "394d9049-7860-4dc1-e6c6-cd8ff8e2dc91"
      },
      "outputs": [
        {
          "output_type": "execute_result",
          "data": {
            "text/plain": [
              "'Prediction is Thai'"
            ],
            "application/vnd.google.colaboratory.intrinsic+json": {
              "type": "string"
            }
          },
          "metadata": {},
          "execution_count": 37
        }
      ],
      "source": [
        "text = \"\"\"ถนนเจริญกรุง อักษรโรมัน thanon charoen krung เริ่มตั้งแต่ถนนสนามไชยถึงแม่น้ำเจ้าพระยาที่ถนนตก กรุงเทพมหานคร เป็นถนนรุ่นแรกที่ใช้เทคนิคการสร้างแบบตะวันตก ปัจจุบันผ่านพื้\"\"\"\n",
        "text=[text]\n",
        "text_int=tfid.transform(text)\n",
        "prediction=multinomial.predict(text_int)\n",
        "f\"Prediction is {prediction[0]}\""
      ]
    },
    {
      "cell_type": "code",
      "execution_count": 38,
      "id": "6e80cb80",
      "metadata": {
        "id": "6e80cb80",
        "colab": {
          "base_uri": "https://localhost:8080/",
          "height": 38
        },
        "outputId": "3a606a10-d002-4112-f3f8-bdffcb9e55a3"
      },
      "outputs": [
        {
          "output_type": "execute_result",
          "data": {
            "text/plain": [
              "'Prediction is English'"
            ],
            "application/vnd.google.colaboratory.intrinsic+json": {
              "type": "string"
            }
          },
          "metadata": {},
          "execution_count": 38
        }
      ],
      "source": [
        "text = \"\"\"I have two friends with theri hapeens my relative shows.\"\"\"\n",
        "text=[text]\n",
        "text_int=tfid.transform(text)\n",
        "prediction=multinomial.predict(text_int)\n",
        "f\"Prediction is {prediction[0]}\""
      ]
    },
    {
      "cell_type": "markdown",
      "id": "c353659d",
      "metadata": {
        "id": "c353659d"
      },
      "source": [
        "# Finally our multinomial modle predict the good result to the test data with accuracy_score 96% "
      ]
    },
    {
      "cell_type": "markdown",
      "id": "9eeb9e2f",
      "metadata": {
        "id": "9eeb9e2f"
      },
      "source": [
        "# Let's check the our model predict the  languages using bernoulli algorithms"
      ]
    },
    {
      "cell_type": "code",
      "execution_count": 39,
      "id": "f18091d5",
      "metadata": {
        "id": "f18091d5",
        "colab": {
          "base_uri": "https://localhost:8080/",
          "height": 38
        },
        "outputId": "b5b0452b-39f5-4571-c3d9-b3a468deaee0"
      },
      "outputs": [
        {
          "output_type": "execute_result",
          "data": {
            "text/plain": [
              "'Prediction is Chinese'"
            ],
            "application/vnd.google.colaboratory.intrinsic+json": {
              "type": "string"
            }
          },
          "metadata": {},
          "execution_count": 39
        }
      ],
      "source": [
        "text = \"\"\"Türkiye Cumhuriyeti güçlüdür ve \n",
        "ilelebet baki kalacaktır.\"\"\"\n",
        "text=[text]\n",
        "text_int=tfid.transform(text)\n",
        "prediction=bernoulli.predict(text_int)\n",
        "f\"Prediction is {prediction[0]}\""
      ]
    },
    {
      "cell_type": "code",
      "execution_count": 40,
      "id": "addd73aa",
      "metadata": {
        "id": "addd73aa",
        "colab": {
          "base_uri": "https://localhost:8080/",
          "height": 38
        },
        "outputId": "e31ac398-c6c5-4f11-cbc9-3cd478fac4a0"
      },
      "outputs": [
        {
          "output_type": "execute_result",
          "data": {
            "text/plain": [
              "'Prediction is Tamil'"
            ],
            "application/vnd.google.colaboratory.intrinsic+json": {
              "type": "string"
            }
          },
          "metadata": {},
          "execution_count": 40
        }
      ],
      "source": [
        "text = \"\"\"விசாகப்பட்டினம் தமிழ்ச்சங்கத்தை இந்துப் பத்திரிகை-விசாகப்பட்டின ஆசிரியர் சம்பத்துடன் இணைந்து விரிவுபடுத்தினார் ஆண்டுகள் தொடர்ந்து செயலராக இருந்து தமிழ்மன்றத்தை நடத்திச் சென்றார் கோவை செம்மொழி மாநாட்டில் \"தமிழ்ச்சங்கங்களும் தமிழும்\" .\"\"\"\n",
        "text=[text]\n",
        "text_int=tfid.transform(text)\n",
        "prediction=bernoulli.predict(text_int)\n",
        "f\"Prediction is {prediction[0]}\""
      ]
    },
    {
      "cell_type": "code",
      "execution_count": 41,
      "id": "f318b070",
      "metadata": {
        "id": "f318b070",
        "colab": {
          "base_uri": "https://localhost:8080/",
          "height": 38
        },
        "outputId": "d95d3e57-3ddb-4819-d10c-806182e6e715"
      },
      "outputs": [
        {
          "output_type": "execute_result",
          "data": {
            "text/plain": [
              "'Prediction is Thai'"
            ],
            "application/vnd.google.colaboratory.intrinsic+json": {
              "type": "string"
            }
          },
          "metadata": {},
          "execution_count": 41
        }
      ],
      "source": [
        "text = \"\"\"ถนนเจริญกรุง อักษรโรมัน thanon charoen krung เริ่มตั้งแต่ถนนสนามไชยถึงแม่น้ำเจ้าพระยาที่ถนนตก กรุงเทพมหานคร เป็นถนนรุ่นแรกที่ใช้เทคนิคการสร้างแบบตะวันตก ปัจจุบันผ่านพื้\"\"\"\n",
        "text=[text]\n",
        "text_int=tfid.transform(text)\n",
        "prediction=bernoulli.predict(text_int)\n",
        "f\"Prediction is {prediction[0]}\""
      ]
    },
    {
      "cell_type": "code",
      "execution_count": 42,
      "id": "e1c0d804",
      "metadata": {
        "id": "e1c0d804",
        "colab": {
          "base_uri": "https://localhost:8080/",
          "height": 38
        },
        "outputId": "c9902296-1ccc-46f5-e3e7-fea71f27cefc"
      },
      "outputs": [
        {
          "output_type": "execute_result",
          "data": {
            "text/plain": [
              "'Prediction is Chinese'"
            ],
            "application/vnd.google.colaboratory.intrinsic+json": {
              "type": "string"
            }
          },
          "metadata": {},
          "execution_count": 42
        }
      ],
      "source": [
        "text = \"\"\"I have two friends with theri hapeens my relative shows.\"\"\"\n",
        "text=[text]\n",
        "text_int=tfid.transform(text)\n",
        "prediction=bernoulli.predict(text_int)\n",
        "f\"Prediction is {prediction[0]}\""
      ]
    },
    {
      "cell_type": "markdown",
      "id": "307e19c2",
      "metadata": {
        "id": "307e19c2"
      },
      "source": [
        "# Compare to the multnomial the bernoulli gave not good result so we can' t consider the model"
      ]
    },
    {
      "cell_type": "markdown",
      "id": "92f716ea",
      "metadata": {
        "id": "92f716ea"
      },
      "source": [
        "# Let's check the our model predict the  languages using decisontree algorithms"
      ]
    },
    {
      "cell_type": "code",
      "execution_count": 43,
      "id": "eef6e0ce",
      "metadata": {
        "id": "eef6e0ce",
        "colab": {
          "base_uri": "https://localhost:8080/",
          "height": 38
        },
        "outputId": "e874f311-9aa1-4599-e550-63eb73e900da"
      },
      "outputs": [
        {
          "output_type": "execute_result",
          "data": {
            "text/plain": [
              "'Prediction is Turkish'"
            ],
            "application/vnd.google.colaboratory.intrinsic+json": {
              "type": "string"
            }
          },
          "metadata": {},
          "execution_count": 43
        }
      ],
      "source": [
        "text = \"\"\"Türkiye Cumhuriyeti güçlüdür ve \n",
        "ilelebet baki kalacaktır.\"\"\"\n",
        "text=[text]\n",
        "text_int=tfid.transform(text)\n",
        "prediction=tree.predict(text_int)\n",
        "f\"Prediction is {prediction[0]}\""
      ]
    },
    {
      "cell_type": "code",
      "execution_count": 44,
      "id": "59c632f7",
      "metadata": {
        "id": "59c632f7",
        "colab": {
          "base_uri": "https://localhost:8080/",
          "height": 38
        },
        "outputId": "d223b748-cafb-4450-a9b3-a2fd68116fbe"
      },
      "outputs": [
        {
          "output_type": "execute_result",
          "data": {
            "text/plain": [
              "'Prediction is Tamil'"
            ],
            "application/vnd.google.colaboratory.intrinsic+json": {
              "type": "string"
            }
          },
          "metadata": {},
          "execution_count": 44
        }
      ],
      "source": [
        "text = \"\"\"விசாகப்பட்டினம் தமிழ்ச்சங்கத்தை இந்துப் பத்திரிகை-விசாகப்பட்டின ஆசிரியர் சம்பத்துடன் இணைந்து விரிவுபடுத்தினார் ஆண்டுகள் தொடர்ந்து செயலராக இருந்து தமிழ்மன்றத்தை நடத்திச் சென்றார் கோவை செம்மொழி மாநாட்டில் \"தமிழ்ச்சங்கங்களும் தமிழும்\" .\"\"\"\n",
        "text=[text]\n",
        "text_int=tfid.transform(text)\n",
        "prediction=tree.predict(text_int)\n",
        "f\"Prediction is {prediction[0]}\""
      ]
    },
    {
      "cell_type": "code",
      "execution_count": 45,
      "id": "f2e2d5d3",
      "metadata": {
        "id": "f2e2d5d3",
        "colab": {
          "base_uri": "https://localhost:8080/",
          "height": 38
        },
        "outputId": "31d24c50-780a-42d1-9eb4-bd4e2838e6df"
      },
      "outputs": [
        {
          "output_type": "execute_result",
          "data": {
            "text/plain": [
              "'Prediction is Thai'"
            ],
            "application/vnd.google.colaboratory.intrinsic+json": {
              "type": "string"
            }
          },
          "metadata": {},
          "execution_count": 45
        }
      ],
      "source": [
        "text = \"\"\"ถนนเจริญกรุง อักษรโรมัน thanon charoen krung เริ่มตั้งแต่ถนนสนามไชยถึงแม่น้ำเจ้าพระยาที่ถนนตก กรุงเทพมหานคร เป็นถนนรุ่นแรกที่ใช้เทคนิคการสร้างแบบตะวันตก ปัจจุบันผ่านพื้\"\"\"\n",
        "text=[text]\n",
        "text_int=tfid.transform(text)\n",
        "prediction=tree.predict(text_int)\n",
        "f\"Prediction is {prediction[0]}\""
      ]
    },
    {
      "cell_type": "code",
      "execution_count": 46,
      "id": "36bbe330",
      "metadata": {
        "id": "36bbe330",
        "colab": {
          "base_uri": "https://localhost:8080/",
          "height": 38
        },
        "outputId": "4808724a-2f87-4006-ffee-749522cc1fcf"
      },
      "outputs": [
        {
          "output_type": "execute_result",
          "data": {
            "text/plain": [
              "'Prediction is Dutch'"
            ],
            "application/vnd.google.colaboratory.intrinsic+json": {
              "type": "string"
            }
          },
          "metadata": {},
          "execution_count": 46
        }
      ],
      "source": [
        "text = \"\"\"I have two friends with theri hapeens my relative shows.\"\"\"\n",
        "text=[text]\n",
        "text_int=tfid.transform(text)\n",
        "prediction=tree.predict(text_int)\n",
        "f\"Prediction is {prediction[0]}\""
      ]
    },
    {
      "cell_type": "markdown",
      "id": "159c42c3",
      "metadata": {
        "id": "159c42c3"
      },
      "source": [
        "# Compare to the multnomial the decisiontree gave not good result so we can' t consider the model"
      ]
    },
    {
      "cell_type": "markdown",
      "id": "ed0fff2b",
      "metadata": {
        "id": "ed0fff2b"
      },
      "source": [
        "# Let's check the our model predict the  languages using randomforesttree algorithms"
      ]
    },
    {
      "cell_type": "code",
      "execution_count": 47,
      "id": "f04b95d3",
      "metadata": {
        "id": "f04b95d3",
        "colab": {
          "base_uri": "https://localhost:8080/",
          "height": 38
        },
        "outputId": "3ec6d880-9a42-4e2e-c794-b01ccbabd8aa"
      },
      "outputs": [
        {
          "output_type": "execute_result",
          "data": {
            "text/plain": [
              "'Prediction is Turkish'"
            ],
            "application/vnd.google.colaboratory.intrinsic+json": {
              "type": "string"
            }
          },
          "metadata": {},
          "execution_count": 47
        }
      ],
      "source": [
        "text = \"\"\"Türkiye Cumhuriyeti güçlüdür ve \n",
        "ilelebet baki kalacaktır.\"\"\"\n",
        "text=[text]\n",
        "text_int=tfid.transform(text)\n",
        "prediction=random.predict(text_int)\n",
        "f\"Prediction is {prediction[0]}\""
      ]
    },
    {
      "cell_type": "code",
      "execution_count": 48,
      "id": "d1379e1c",
      "metadata": {
        "id": "d1379e1c",
        "colab": {
          "base_uri": "https://localhost:8080/",
          "height": 38
        },
        "outputId": "3ce9048d-b23a-4b1b-c88b-e1fcf2389f7b"
      },
      "outputs": [
        {
          "output_type": "execute_result",
          "data": {
            "text/plain": [
              "'Prediction is Tamil'"
            ],
            "application/vnd.google.colaboratory.intrinsic+json": {
              "type": "string"
            }
          },
          "metadata": {},
          "execution_count": 48
        }
      ],
      "source": [
        "text = \"\"\"விசாகப்பட்டினம் தமிழ்ச்சங்கத்தை இந்துப் பத்திரிகை-விசாகப்பட்டின ஆசிரியர் சம்பத்துடன் இணைந்து விரிவுபடுத்தினார் ஆண்டுகள் தொடர்ந்து செயலராக இருந்து தமிழ்மன்றத்தை நடத்திச் சென்றார் கோவை செம்மொழி மாநாட்டில் \"தமிழ்ச்சங்கங்களும் தமிழும்\" .\"\"\"\n",
        "text=[text]\n",
        "text_int=tfid.transform(text)\n",
        "prediction=random.predict(text_int)\n",
        "f\"Prediction is {prediction[0]}\""
      ]
    },
    {
      "cell_type": "code",
      "execution_count": 49,
      "id": "866a4a2e",
      "metadata": {
        "id": "866a4a2e",
        "colab": {
          "base_uri": "https://localhost:8080/",
          "height": 38
        },
        "outputId": "48724301-3f67-4a22-afeb-4922c6109abb"
      },
      "outputs": [
        {
          "output_type": "execute_result",
          "data": {
            "text/plain": [
              "'Prediction is Thai'"
            ],
            "application/vnd.google.colaboratory.intrinsic+json": {
              "type": "string"
            }
          },
          "metadata": {},
          "execution_count": 49
        }
      ],
      "source": [
        "text = \"\"\"ถนนเจริญกรุง อักษรโรมัน thanon charoen krung เริ่มตั้งแต่ถนนสนามไชยถึงแม่น้ำเจ้าพระยาที่ถนนตก กรุงเทพมหานคร เป็นถนนรุ่นแรกที่ใช้เทคนิคการสร้างแบบตะวันตก ปัจจุบันผ่านพื้\"\"\"\n",
        "text=[text]\n",
        "text_int=tfid.transform(text)\n",
        "prediction=random.predict(text_int)\n",
        "f\"Prediction is {prediction[0]}\""
      ]
    },
    {
      "cell_type": "code",
      "execution_count": 50,
      "id": "1aece772",
      "metadata": {
        "id": "1aece772",
        "colab": {
          "base_uri": "https://localhost:8080/",
          "height": 38
        },
        "outputId": "35e5caf5-ca13-4a03-f783-44d27349d904"
      },
      "outputs": [
        {
          "output_type": "execute_result",
          "data": {
            "text/plain": [
              "'Prediction is Dutch'"
            ],
            "application/vnd.google.colaboratory.intrinsic+json": {
              "type": "string"
            }
          },
          "metadata": {},
          "execution_count": 50
        }
      ],
      "source": [
        "text = \"\"\"I have two friends with theri hapeens my relative shows.\"\"\"\n",
        "text=[text]\n",
        "text_int=tfid.transform(text)\n",
        "prediction=random.predict(text_int)\n",
        "f\"Prediction is {prediction[0]}\""
      ]
    },
    {
      "cell_type": "markdown",
      "id": "349627a7",
      "metadata": {
        "id": "349627a7"
      },
      "source": [
        "# Compare to the multnomial the randomforestclassifier gave not good result so we can' t consider the model"
      ]
    },
    {
      "cell_type": "markdown",
      "id": "7f9ac9dc",
      "metadata": {
        "id": "7f9ac9dc"
      },
      "source": [
        "# Conclusion"
      ]
    },
    {
      "cell_type": "markdown",
      "id": "f8783c78",
      "metadata": {
        "id": "f8783c78"
      },
      "source": [
        "We take the dataset from the kaggle website. The data processing involves several steps such as \n",
        "1.Data loading\n",
        "2.Data preprocessing\n",
        "3.EDA (just basic eda process)\n",
        "4.Data modeling\n",
        "5.Covert the data into vector forms\n",
        "6.Divided the data into train and test\n",
        "7.using the several algorithm to give best accuracy score to the test data set"
      ]
    },
    {
      "cell_type": "code",
      "execution_count": 51,
      "id": "5abf41b3",
      "metadata": {
        "id": "5abf41b3"
      },
      "outputs": [],
      "source": [
        "#Save the model into pickle format\n",
        "import pickle"
      ]
    },
    {
      "cell_type": "code",
      "execution_count": 52,
      "id": "d8f25a8f",
      "metadata": {
        "id": "d8f25a8f"
      },
      "outputs": [],
      "source": [
        "# create an iterator object with write permission - model.pkl\n",
        "with open('multinomial_pkl', 'wb') as files:\n",
        "    pickle.dump(multinomial, files)"
      ]
    },
    {
      "cell_type": "code",
      "execution_count": 52,
      "id": "f7b7f2f5",
      "metadata": {
        "id": "f7b7f2f5"
      },
      "outputs": [],
      "source": []
    }
  ],
  "metadata": {
    "kernelspec": {
      "display_name": "Python 3 (ipykernel)",
      "language": "python",
      "name": "python3"
    },
    "language_info": {
      "codemirror_mode": {
        "name": "ipython",
        "version": 3
      },
      "file_extension": ".py",
      "mimetype": "text/x-python",
      "name": "python",
      "nbconvert_exporter": "python",
      "pygments_lexer": "ipython3",
      "version": "3.9.12"
    },
    "colab": {
      "provenance": [],
      "collapsed_sections": [
        "e47a4a67",
        "40b74589",
        "7ce92602",
        "2d96ed24",
        "4f93b3c0",
        "6fa1a674",
        "9e88995c",
        "e28b1d60",
        "db3f6176",
        "cbcee1e9",
        "f691c5ba",
        "5546a31c",
        "c353659d",
        "9eeb9e2f",
        "307e19c2",
        "92f716ea",
        "159c42c3",
        "ed0fff2b",
        "349627a7",
        "7f9ac9dc"
      ],
      "include_colab_link": true
    },
    "accelerator": "GPU",
    "gpuClass": "standard"
  },
  "nbformat": 4,
  "nbformat_minor": 5
}