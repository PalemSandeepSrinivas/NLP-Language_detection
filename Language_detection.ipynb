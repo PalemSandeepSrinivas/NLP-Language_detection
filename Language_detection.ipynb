{
  "cells": [
    {
      "cell_type": "markdown",
      "metadata": {
        "id": "view-in-github",
        "colab_type": "text"
      },
      "source": [
        "<a href=\"https://colab.research.google.com/github/PalemSandeepSrinivas/NLP-Language_detection/blob/main/Language_detection.ipynb\" target=\"_parent\"><img src=\"https://colab.research.google.com/assets/colab-badge.svg\" alt=\"Open In Colab\"/></a>"
      ]
    },
    {
      "cell_type": "code",
      "source": [
        "from google.colab import drive\n",
        "drive.mount('/content/drive')"
      ],
      "metadata": {
        "colab": {
          "base_uri": "https://localhost:8080/"
        },
        "id": "p28HnJtvnja8",
        "outputId": "a5759b34-d27a-40a1-870d-6d0e9baec62d"
      },
      "id": "p28HnJtvnja8",
      "execution_count": 2,
      "outputs": [
        {
          "output_type": "stream",
          "name": "stdout",
          "text": [
            "Drive already mounted at /content/drive; to attempt to forcibly remount, call drive.mount(\"/content/drive\", force_remount=True).\n"
          ]
        }
      ]
    },
    {
      "cell_type": "code",
      "execution_count": 3,
      "id": "376120f8",
      "metadata": {
        "id": "376120f8"
      },
      "outputs": [],
      "source": [
        "# Importing Necessary Libraries\n",
        "import pandas as pd\n",
        "import numpy as np\n",
        "import matplotlib.pyplot as plt\n",
        "import seaborn as sns\n",
        "import nltk\n",
        "from sklearn.feature_extraction.text import CountVectorizer,TfidfVectorizer\n",
        "from sklearn.model_selection import train_test_split\n",
        "import re\n",
        "import string\n",
        "import codecs\n",
        "from sklearn.metrics import accuracy_score,classification_report,confusion_matrix"
      ]
    },
    {
      "cell_type": "code",
      "execution_count": 4,
      "id": "30d6bdc8",
      "metadata": {
        "colab": {
          "base_uri": "https://localhost:8080/",
          "height": 241
        },
        "id": "30d6bdc8",
        "outputId": "66591921-25b5-4249-c2a3-3f46227cfad7"
      },
      "outputs": [
        {
          "output_type": "execute_result",
          "data": {
            "text/plain": [
              "<pandas.io.formats.style.Styler at 0x7fd0a5b1cad0>"
            ],
            "text/html": [
              "<style type=\"text/css\">\n",
              "</style>\n",
              "<table id=\"T_5acfe_\" class=\"dataframe\">\n",
              "  <thead>\n",
              "    <tr>\n",
              "      <th class=\"blank level0\" >&nbsp;</th>\n",
              "      <th class=\"col_heading level0 col0\" >Text</th>\n",
              "      <th class=\"col_heading level0 col1\" >language</th>\n",
              "    </tr>\n",
              "  </thead>\n",
              "  <tbody>\n",
              "    <tr>\n",
              "      <th id=\"T_5acfe_level0_row0\" class=\"row_heading level0 row0\" >0</th>\n",
              "      <td id=\"T_5acfe_row0_col0\" class=\"data row0 col0\" >klement gottwaldi surnukeha palsameeriti ning paigutati mausoleumi surnukeha oli aga liiga hilja ja oskamatult palsameeritud ning hakkas ilmutama lagunemise tundemärke  aastal viidi ta surnukeha mausoleumist ära ja kremeeriti zlíni linn kandis aastatel – nime gottwaldov ukrainas harkivi oblastis kandis zmiivi linn aastatel – nime gotvald</td>\n",
              "      <td id=\"T_5acfe_row0_col1\" class=\"data row0 col1\" >Estonian</td>\n",
              "    </tr>\n",
              "    <tr>\n",
              "      <th id=\"T_5acfe_level0_row1\" class=\"row_heading level0 row1\" >1</th>\n",
              "      <td id=\"T_5acfe_row1_col0\" class=\"data row1 col0\" >sebes joseph pereira thomas  på eng the jesuits and the sino-russian treaty of nerchinsk  the diary of thomas pereira bibliotheca instituti historici s i --   rome libris </td>\n",
              "      <td id=\"T_5acfe_row1_col1\" class=\"data row1 col1\" >Swedish</td>\n",
              "    </tr>\n",
              "    <tr>\n",
              "      <th id=\"T_5acfe_level0_row2\" class=\"row_heading level0 row2\" >2</th>\n",
              "      <td id=\"T_5acfe_row2_col0\" class=\"data row2 col0\" >ถนนเจริญกรุง อักษรโรมัน thanon charoen krung เริ่มตั้งแต่ถนนสนามไชยถึงแม่น้ำเจ้าพระยาที่ถนนตก กรุงเทพมหานคร เป็นถนนรุ่นแรกที่ใช้เทคนิคการสร้างแบบตะวันตก ปัจจุบันผ่านพื้นที่เขตพระนคร เขตป้อมปราบศัตรูพ่าย เขตสัมพันธวงศ์ เขตบางรัก เขตสาทร และเขตบางคอแหลม</td>\n",
              "      <td id=\"T_5acfe_row2_col1\" class=\"data row2 col1\" >Thai</td>\n",
              "    </tr>\n",
              "    <tr>\n",
              "      <th id=\"T_5acfe_level0_row3\" class=\"row_heading level0 row3\" >3</th>\n",
              "      <td id=\"T_5acfe_row3_col0\" class=\"data row3 col0\" >விசாகப்பட்டினம் தமிழ்ச்சங்கத்தை இந்துப் பத்திரிகை-விசாகப்பட்டின ஆசிரியர் சம்பத்துடன் இணைந்து விரிவுபடுத்தினார்  ஆண்டுகள் தொடர்ந்து செயலராக இருந்து தமிழ்மன்றத்தை நடத்திச் சென்றார்  கோவை செம்மொழி மாநாட்டில் \"தமிழ்ச்சங்கங்களும் தமிழும்\" எனும் தலைப்பில் பிற மாநிலங்களில் தமிழ்வளர்ச்சி பற்றி கட்டுரை வாசித்தார்</td>\n",
              "      <td id=\"T_5acfe_row3_col1\" class=\"data row3 col1\" >Tamil</td>\n",
              "    </tr>\n",
              "    <tr>\n",
              "      <th id=\"T_5acfe_level0_row4\" class=\"row_heading level0 row4\" >4</th>\n",
              "      <td id=\"T_5acfe_row4_col0\" class=\"data row4 col0\" >de spons behoort tot het geslacht haliclona en behoort tot de familie chalinidae de wetenschappelijke naam van de soort werd voor het eerst geldig gepubliceerd in  door kudelin</td>\n",
              "      <td id=\"T_5acfe_row4_col1\" class=\"data row4 col1\" >Dutch</td>\n",
              "    </tr>\n",
              "  </tbody>\n",
              "</table>\n"
            ]
          },
          "metadata": {},
          "execution_count": 4
        }
      ],
      "source": [
        "# Read the dataset\n",
        "data = pd.read_csv('/content/drive/MyDrive/language_detection.csv')\n",
        "#print the top five rows  of the data\n",
        "data.head().style.background_gradient(cmap='Red')"
      ]
    },
    {
      "cell_type": "code",
      "execution_count": 5,
      "id": "fd5de0ea",
      "metadata": {
        "colab": {
          "base_uri": "https://localhost:8080/"
        },
        "id": "fd5de0ea",
        "outputId": "715f3811-8b8e-4216-e2f8-c2273d03efcf"
      },
      "outputs": [
        {
          "output_type": "execute_result",
          "data": {
            "text/plain": [
              "(22000, 2)"
            ]
          },
          "metadata": {},
          "execution_count": 5
        }
      ],
      "source": [
        "#Check the datashape\n",
        "data.shape"
      ]
    },
    {
      "cell_type": "code",
      "execution_count": 6,
      "id": "32e6a81e",
      "metadata": {
        "colab": {
          "base_uri": "https://localhost:8080/"
        },
        "id": "32e6a81e",
        "outputId": "008a6126-5e1e-413a-c915-75b1b4f697c6"
      },
      "outputs": [
        {
          "output_type": "stream",
          "name": "stdout",
          "text": [
            "<class 'pandas.core.frame.DataFrame'>\n",
            "RangeIndex: 22000 entries, 0 to 21999\n",
            "Data columns (total 2 columns):\n",
            " #   Column    Non-Null Count  Dtype \n",
            "---  ------    --------------  ----- \n",
            " 0   Text      22000 non-null  object\n",
            " 1   language  22000 non-null  object\n",
            "dtypes: object(2)\n",
            "memory usage: 343.9+ KB\n"
          ]
        }
      ],
      "source": [
        "#check the data inforamtion\n",
        "data.info()"
      ]
    },
    {
      "cell_type": "code",
      "execution_count": 7,
      "id": "67782155",
      "metadata": {
        "colab": {
          "base_uri": "https://localhost:8080/"
        },
        "id": "67782155",
        "outputId": "3d79580e-821f-4b2c-b3af-1cc2950949cd"
      },
      "outputs": [
        {
          "output_type": "execute_result",
          "data": {
            "text/plain": [
              "array(['Estonian', 'Swedish', 'Thai', 'Tamil', 'Dutch', 'Japanese',\n",
              "       'Turkish', 'Latin', 'Urdu', 'Indonesian', 'Portugese', 'French',\n",
              "       'Chinese', 'Korean', 'Hindi', 'Spanish', 'Pushto', 'Persian',\n",
              "       'Romanian', 'Russian', 'English', 'Arabic'], dtype=object)"
            ]
          },
          "metadata": {},
          "execution_count": 7
        }
      ],
      "source": [
        "#Let's find the uniue lanugaes in the data\n",
        "data['language'].unique()"
      ]
    },
    {
      "cell_type": "code",
      "execution_count": 8,
      "id": "2696480b",
      "metadata": {
        "colab": {
          "base_uri": "https://localhost:8080/",
          "height": 351
        },
        "id": "2696480b",
        "outputId": "97916ec6-93cf-4b66-b100-e70fccb0ecc9"
      },
      "outputs": [
        {
          "output_type": "stream",
          "name": "stderr",
          "text": [
            "/usr/local/lib/python3.7/dist-packages/seaborn/_decorators.py:43: FutureWarning: Pass the following variable as a keyword arg: x. From version 0.12, the only valid positional argument will be `data`, and passing other arguments without an explicit keyword will result in an error or misinterpretation.\n",
            "  FutureWarning\n"
          ]
        },
        {
          "output_type": "execute_result",
          "data": {
            "text/plain": [
              "<matplotlib.axes._subplots.AxesSubplot at 0x7fd0a554abd0>"
            ]
          },
          "metadata": {},
          "execution_count": 8
        },
        {
          "output_type": "display_data",
          "data": {
            "text/plain": [
              "<Figure size 432x288 with 1 Axes>"
            ],
            "image/png": "[encoded data removed]"
          },
          "metadata": {
            "needs_background": "light"
          }
        }
      ],
      "source": [
        "#Let's visualize  the languages using the countplot\n",
        "sns.countplot(data['language'],palette='rainbow')"
      ]
    },
    {
      "cell_type": "markdown",
      "id": "2609a975",
      "metadata": {
        "id": "2609a975"
      },
      "source": [
        "# Data Pre_Processing"
      ]
    },
    {
      "cell_type": "code",
      "execution_count": 9,
      "id": "ef907ce0",
      "metadata": {
        "colab": {
          "base_uri": "https://localhost:8080/",
          "height": 206
        },
        "id": "ef907ce0",
        "outputId": "2dc15aaf-223e-4066-9b28-d789aa24fcfe"
      },
      "outputs": [
        {
          "output_type": "execute_result",
          "data": {
            "text/plain": [
              "                                                Text  language\n",
              "0  klement gottwaldi surnukeha palsameeriti ning ...  Estonian\n",
              "1  sebes joseph pereira thomas  på eng the jesuit...   Swedish\n",
              "2  ถนนเจริญกรุง อักษรโรมัน thanon charoen krung เ...      Thai\n",
              "3  விசாகப்பட்டினம் தமிழ்ச்சங்கத்தை இந்துப் பத்திர...     Tamil\n",
              "4  de spons behoort tot het geslacht haliclona en...     Dutch"
            ],
            "text/html": [
              "\n",
              "  <div id=\"df-57e93c10-8b31-4d37-acfe-93da5652a869\">\n",
              "    <div class=\"colab-df-container\">\n",
              "      <div>\n",
              "<style scoped>\n",
              "    .dataframe tbody tr th:only-of-type {\n",
              "        vertical-align: middle;\n",
              "    }\n",
              "\n",
              "    .dataframe tbody tr th {\n",
              "        vertical-align: top;\n",
              "    }\n",
              "\n",
              "    .dataframe thead th {\n",
              "        text-align: right;\n",
              "    }\n",
              "</style>\n",
              "<table border=\"1\" class=\"dataframe\">\n",
              "  <thead>\n",
              "    <tr style=\"text-align: right;\">\n",
              "      <th></th>\n",
              "      <th>Text</th>\n",
              "      <th>language</th>\n",
              "    </tr>\n",
              "  </thead>\n",
              "  <tbody>\n",
              "    <tr>\n",
              "      <th>0</th>\n",
              "      <td>klement gottwaldi surnukeha palsameeriti ning ...</td>\n",
              "      <td>Estonian</td>\n",
              "    </tr>\n",
              "    <tr>\n",
              "      <th>1</th>\n",
              "      <td>sebes joseph pereira thomas  på eng the jesuit...</td>\n",
              "      <td>Swedish</td>\n",
              "    </tr>\n",
              "    <tr>\n",
              "      <th>2</th>\n",
              "      <td>ถนนเจริญกรุง อักษรโรมัน thanon charoen krung เ...</td>\n",
              "      <td>Thai</td>\n",
              "    </tr>\n",
              "    <tr>\n",
              "      <th>3</th>\n",
              "      <td>விசாகப்பட்டினம் தமிழ்ச்சங்கத்தை இந்துப் பத்திர...</td>\n",
              "      <td>Tamil</td>\n",
              "    </tr>\n",
              "    <tr>\n",
              "      <th>4</th>\n",
              "      <td>de spons behoort tot het geslacht haliclona en...</td>\n",
              "      <td>Dutch</td>\n",
              "    </tr>\n",
              "  </tbody>\n",
              "</table>\n",
              "</div>\n",
              "      <button class=\"colab-df-convert\" onclick=\"convertToInteractive('df-57e93c10-8b31-4d37-acfe-93da5652a869')\"\n",
              "              title=\"Convert this dataframe to an interactive table.\"\n",
              "              style=\"display:none;\">\n",
              "        \n",
              "  <svg xmlns=\"http://www.w3.org/2000/svg\" height=\"24px\"viewBox=\"0 0 24 24\"\n",
              "       width=\"24px\">\n",
              "    <path d=\"M0 0h24v24H0V0z\" fill=\"none\"/>\n",
              "    <path d=\"M18.56 5.44l.94 2.06.94-2.06 2.06-.94-2.06-.94-.94-2.06-.94 2.06-2.06.94zm-11 1L8.5 8.5l.94-2.06 2.06-.94-2.06-.94L8.5 2.5l-.94 2.06-2.06.94zm10 10l.94 2.06.94-2.06 2.06-.94-2.06-.94-.94-2.06-.94 2.06-2.06.94z\"/><path d=\"M17.41 7.96l-1.37-1.37c-.4-.4-.92-.59-1.43-.59-.52 0-1.04.2-1.43.59L10.3 9.45l-7.72 7.72c-.78.78-.78 2.05 0 2.83L4 21.41c.39.39.9.59 1.41.59.51 0 1.02-.2 1.41-.59l7.78-7.78 2.81-2.81c.8-.78.8-2.07 0-2.86zM5.41 20L4 18.59l7.72-7.72 1.47 1.35L5.41 20z\"/>\n",
              "  </svg>\n",
              "      </button>\n",
              "      \n",
              "  <style>\n",
              "    .colab-df-container {\n",
              "      display:flex;\n",
              "      flex-wrap:wrap;\n",
              "      gap: 12px;\n",
              "    }\n",
              "\n",
              "    .colab-df-convert {\n",
              "      background-color: #E8F0FE;\n",
              "      border: none;\n",
              "      border-radius: 50%;\n",
              "      cursor: pointer;\n",
              "      display: none;\n",
              "      fill: #1967D2;\n",
              "      height: 32px;\n",
              "      padding: 0 0 0 0;\n",
              "      width: 32px;\n",
              "    }\n",
              "\n",
              "    .colab-df-convert:hover {\n",
              "      background-color: #E2EBFA;\n",
              "      box-shadow: 0px 1px 2px rgba(60, 64, 67, 0.3), 0px 1px 3px 1px rgba(60, 64, 67, 0.15);\n",
              "      fill: #174EA6;\n",
              "    }\n",
              "\n",
              "    [theme=dark] .colab-df-convert {\n",
              "      background-color: #3B4455;\n",
              "      fill: #D2E3FC;\n",
              "    }\n",
              "\n",
              "    [theme=dark] .colab-df-convert:hover {\n",
              "      background-color: #434B5C;\n",
              "      box-shadow: 0px 1px 3px 1px rgba(0, 0, 0, 0.15);\n",
              "      filter: drop-shadow(0px 1px 2px rgba(0, 0, 0, 0.3));\n",
              "      fill: #FFFFFF;\n",
              "    }\n",
              "  </style>\n",
              "\n",
              "      <script>\n",
              "        const buttonEl =\n",
              "          document.querySelector('#df-57e93c10-8b31-4d37-acfe-93da5652a869 button.colab-df-convert');\n",
              "        buttonEl.style.display =\n",
              "          google.colab.kernel.accessAllowed ? 'block' : 'none';\n",
              "\n",
              "        async function convertToInteractive(key) {\n",
              "          const element = document.querySelector('#df-57e93c10-8b31-4d37-acfe-93da5652a869');\n",
              "          const dataTable =\n",
              "            await google.colab.kernel.invokeFunction('convertToInteractive',\n",
              "                                                     [key], {});\n",
              "          if (!dataTable) return;\n",
              "\n",
              "          const docLinkHtml = 'Like what you see? Visit the ' +\n",
              "            '<a target=\"_blank\" href=https://colab.research.google.com/notebooks/data_table.ipynb>data table notebook</a>'\n",
              "            + ' to learn more about interactive tables.';\n",
              "          element.innerHTML = '';\n",
              "          dataTable['output_type'] = 'display_data';\n",
              "          await google.colab.output.renderOutput(dataTable, element);\n",
              "          const docLink = document.createElement('div');\n",
              "          docLink.innerHTML = docLinkHtml;\n",
              "          element.appendChild(docLink);\n",
              "        }\n",
              "      </script>\n",
              "    </div>\n",
              "  </div>\n",
              "  "
            ]
          },
          "metadata": {},
          "execution_count": 9
        }
      ],
      "source": [
        "data.head()"
      ]
    },
    {
      "cell_type": "markdown",
      "id": "d0fd2aff",
      "metadata": {
        "id": "d0fd2aff"
      },
      "source": [
        "# Divided the data into X and y"
      ]
    },
    {
      "cell_type": "code",
      "execution_count": 10,
      "id": "a774a713",
      "metadata": {
        "id": "a774a713"
      },
      "outputs": [],
      "source": [
        "#Let's divided the data into X and y\n",
        "X=data['Text'].values\n",
        "y=data['language'].values"
      ]
    },
    {
      "cell_type": "markdown",
      "id": "92972507",
      "metadata": {
        "id": "92972507"
      },
      "source": [
        "# Convert the data into vector forms because our machine can't read the text data in this process we use tdifvectorizer for covert the vectores"
      ]
    },
    {
      "cell_type": "code",
      "execution_count": 11,
      "id": "28203347",
      "metadata": {
        "id": "28203347"
      },
      "outputs": [],
      "source": [
        "#And convert the text into array using the tdifvectorizer because our \n",
        "tfid=TfidfVectorizer()\n",
        "tfid.fit(X)\n",
        "X=tfid.transform(X)"
      ]
    },
    {
      "cell_type": "markdown",
      "id": "308be4dc",
      "metadata": {
        "id": "308be4dc"
      },
      "source": [
        "# Divided the data into train and test "
      ]
    },
    {
      "cell_type": "code",
      "execution_count": 12,
      "id": "a679f7d4",
      "metadata": {
        "id": "a679f7d4"
      },
      "outputs": [],
      "source": [
        "#Divided the data into train_test_spilt\n",
        "X_train,X_test,y_train,y_test=train_test_split(X,y,test_size=0.30,random_state=42)"
      ]
    },
    {
      "cell_type": "code",
      "execution_count": 13,
      "id": "e5eedbfd",
      "metadata": {
        "colab": {
          "base_uri": "https://localhost:8080/"
        },
        "id": "e5eedbfd",
        "outputId": "95c6caee-d8f7-4246-bdd9-417cb6eee446"
      },
      "outputs": [
        {
          "output_type": "stream",
          "name": "stdout",
          "text": [
            "(6600, 277720)\n",
            "(6600,)\n",
            "(15400, 277720)\n",
            "(15400,)\n"
          ]
        }
      ],
      "source": [
        "#Print the train and test shape\n",
        "print(X_test.shape)\n",
        "print(y_test.shape)\n",
        "print(X_train.shape)\n",
        "print(y_train.shape)"
      ]
    },
    {
      "cell_type": "markdown",
      "id": "e47a4a67",
      "metadata": {
        "id": "e47a4a67"
      },
      "source": [
        "# MultinomialNB"
      ]
    },
    {
      "cell_type": "code",
      "execution_count": 14,
      "id": "89ef1a9c",
      "metadata": {
        "colab": {
          "base_uri": "https://localhost:8080/"
        },
        "id": "89ef1a9c",
        "outputId": "f3225d58-3607-4508-f1d3-5bfe4dc60249"
      },
      "outputs": [
        {
          "output_type": "execute_result",
          "data": {
            "text/plain": [
              "MultinomialNB()"
            ]
          },
          "metadata": {},
          "execution_count": 14
        }
      ],
      "source": [
        "#Import the MultinomialNB algorithm to train the our model\n",
        "from sklearn.naive_bayes import MultinomialNB\n",
        "#install the model\n",
        "multinomial=MultinomialNB()\n",
        "#fit the train data to our model\n",
        "multinomial.fit(X_train,y_train)"
      ]
    },
    {
      "cell_type": "code",
      "execution_count": 15,
      "id": "a3b1bc2b",
      "metadata": {
        "colab": {
          "base_uri": "https://localhost:8080/"
        },
        "id": "a3b1bc2b",
        "outputId": "21d66068-c024-4926-bb3d-4d43a6359ee1"
      },
      "outputs": [
        {
          "output_type": "execute_result",
          "data": {
            "text/plain": [
              "array(['Japanese', 'Russian', 'Latin', ..., 'Spanish', 'Arabic',\n",
              "       'Estonian'], dtype='<U10')"
            ]
          },
          "metadata": {},
          "execution_count": 15
        }
      ],
      "source": [
        "#Prediction to the test data\n",
        "multinomial_pred=multinomial.predict(X_test)\n",
        "multinomial_pred"
      ]
    },
    {
      "cell_type": "code",
      "execution_count": 16,
      "id": "c644b418",
      "metadata": {
        "colab": {
          "base_uri": "https://localhost:8080/"
        },
        "id": "c644b418",
        "outputId": "cdf5f22e-3033-4a8d-8015-0d5ab2541b49"
      },
      "outputs": [
        {
          "output_type": "stream",
          "name": "stdout",
          "text": [
            "multinomial score for test data:95.71%\n",
            "multinomial score for train data:98.41%\n",
            "accuracy_score: 95.71%\n"
          ]
        }
      ],
      "source": [
        "#Let's print the train score and test score to the model\n",
        "print('multinomial score for test data:{}%'.format(round(multinomial.score(X_test,y_test)*100,2)))\n",
        "print('multinomial score for train data:{}%'.format(round(multinomial.score(X_train,y_train)*100,2)))\n",
        "#print the accuracy_score\n",
        "print('accuracy_score: {}%'.format(round(accuracy_score(y_test,multinomial_pred)*100,2)))"
      ]
    },
    {
      "cell_type": "markdown",
      "id": "40b74589",
      "metadata": {
        "id": "40b74589"
      },
      "source": [
        "# Classification_report"
      ]
    },
    {
      "cell_type": "code",
      "execution_count": 17,
      "id": "b3ea5503",
      "metadata": {
        "colab": {
          "base_uri": "https://localhost:8080/"
        },
        "id": "b3ea5503",
        "outputId": "77d800dc-fa38-49fa-9bf0-64f89d52a3a8"
      },
      "outputs": [
        {
          "output_type": "stream",
          "name": "stdout",
          "text": [
            "              precision    recall  f1-score   support\n",
            "\n",
            "      Arabic       1.00      1.00      1.00       300\n",
            "     Chinese       0.74      0.85      0.79       291\n",
            "       Dutch       0.99      0.98      0.99       313\n",
            "     English       0.68      1.00      0.81       289\n",
            "    Estonian       0.99      0.96      0.98       308\n",
            "      French       0.93      0.99      0.96       287\n",
            "       Hindi       1.00      0.98      0.99       314\n",
            "  Indonesian       0.99      0.98      0.98       295\n",
            "    Japanese       0.99      0.62      0.76       302\n",
            "      Korean       1.00      0.98      0.99       296\n",
            "       Latin       0.99      0.91      0.94       312\n",
            "     Persian       1.00      1.00      1.00       299\n",
            "   Portugese       1.00      0.96      0.98       293\n",
            "      Pushto       1.00      0.97      0.98       303\n",
            "    Romanian       0.98      0.98      0.98       291\n",
            "     Russian       0.98      0.99      0.99       302\n",
            "     Spanish       0.96      0.99      0.98       287\n",
            "     Swedish       0.99      1.00      1.00       290\n",
            "       Tamil       1.00      0.99      0.99       301\n",
            "        Thai       1.00      0.98      0.99       305\n",
            "     Turkish       0.99      0.98      0.99       298\n",
            "        Urdu       1.00      0.98      0.99       324\n",
            "\n",
            "    accuracy                           0.96      6600\n",
            "   macro avg       0.96      0.96      0.96      6600\n",
            "weighted avg       0.97      0.96      0.96      6600\n",
            "\n"
          ]
        }
      ],
      "source": [
        "classification=classification_report(y_test,multinomial_pred)\n",
        "print(classification)"
      ]
    },
    {
      "cell_type": "markdown",
      "id": "7ce92602",
      "metadata": {
        "id": "7ce92602"
      },
      "source": [
        "# Confusion_matrix"
      ]
    },
    {
      "cell_type": "code",
      "execution_count": 18,
      "id": "9373e7d2",
      "metadata": {
        "colab": {
          "base_uri": "https://localhost:8080/",
          "height": 636
        },
        "id": "9373e7d2",
        "outputId": "5e561476-c897-4576-f42f-424790163764"
      },
      "outputs": [
        {
          "output_type": "display_data",
          "data": {
            "text/plain": [
              "<Figure size 1080x720 with 2 Axes>"
            ],
            "image/png": "[encoded data removed]"
          },
          "metadata": {
            "needs_background": "light"
          }
        }
      ],
      "source": [
        "confusion=confusion_matrix(y_test,multinomial_pred)\n",
        "plt.figure(figsize=(15,10))\n",
        "sns.heatmap(confusion,annot=True,cmap='winter',xticklabels=['Estonian', 'Swedish', 'Thai', 'Tamil', 'Dutch', 'Japanese',\n",
        "       'Turkish', 'Latin', 'Urdu', 'Indonesian', 'Portugese', 'French',\n",
        "       'Chinese', 'Korean', 'Hindi', 'Spanish', 'Pushto', 'Persian',\n",
        "       'Romanian', 'Russian', 'English', 'Arabic'], yticklabels=['Estonian', 'Swedish', 'Thai', 'Tamil', 'Dutch', 'Japanese',\n",
        "       'Turkish', 'Latin', 'Urdu', 'Indonesian', 'Portugese', 'French',\n",
        "       'Chinese', 'Korean', 'Hindi', 'Spanish', 'Pushto', 'Persian',\n",
        "       'Romanian', 'Russian', 'English', 'Arabic'])\n",
        "plt.show()"
      ]
    },
    {
      "cell_type": "code",
      "execution_count": 19,
      "id": "0ff2cccc",
      "metadata": {
        "colab": {
          "base_uri": "https://localhost:8080/"
        },
        "id": "0ff2cccc",
        "outputId": "ea3f4f7a-89f1-425c-f7b2-366581b0afe4"
      },
      "outputs": [
        {
          "output_type": "execute_result",
          "data": {
            "text/plain": [
              "DecisionTreeClassifier()"
            ]
          },
          "metadata": {},
          "execution_count": 19
        }
      ],
      "source": [
        "#Let's check the Logistic algorithm to our model\n",
        "from sklearn.tree import DecisionTreeClassifier\n",
        "#install the model\n",
        "tree=DecisionTreeClassifier()\n",
        "#Let's fit the train data to our model\n",
        "tree.fit(X_train,y_train)"
      ]
    },
    {
      "cell_type": "code",
      "execution_count": 20,
      "id": "3aef648d",
      "metadata": {
        "colab": {
          "base_uri": "https://localhost:8080/"
        },
        "id": "3aef648d",
        "outputId": "aef51ad0-3736-4835-f5a1-02db2142e0d1"
      },
      "outputs": [
        {
          "output_type": "execute_result",
          "data": {
            "text/plain": [
              "array(['Japanese', 'Russian', 'Latin', ..., 'Spanish', 'Arabic',\n",
              "       'Estonian'], dtype=object)"
            ]
          },
          "metadata": {},
          "execution_count": 20
        }
      ],
      "source": [
        "#Predictions\n",
        "tree_pred=tree.predict(X_test)\n",
        "tree_pred"
      ]
    },
    {
      "cell_type": "code",
      "execution_count": 21,
      "id": "c29947f2",
      "metadata": {
        "colab": {
          "base_uri": "https://localhost:8080/"
        },
        "id": "c29947f2",
        "outputId": "af8797be-6b84-41e1-d566-ad46ceec9875"
      },
      "outputs": [
        {
          "output_type": "stream",
          "name": "stdout",
          "text": [
            "Decison tree score for test data:89.09%\n",
            "Decison tree for train data:100.0%\n",
            "accuracy_score: 89.09%\n"
          ]
        }
      ],
      "source": [
        "#Let's print the train score and test score to the model\n",
        "print('Decison tree score for test data:{}%'.format(round(tree.score(X_test,y_test)*100,2)))\n",
        "print('Decison tree for train data:{}%'.format(round(tree.score(X_train,y_train)*100,2)))\n",
        "#print the accuracy_score\n",
        "print('accuracy_score: {}%'.format(round(accuracy_score(y_test,tree_pred)*100,2)))"
      ]
    },
    {
      "cell_type": "markdown",
      "id": "2d96ed24",
      "metadata": {
        "id": "2d96ed24"
      },
      "source": [
        "# Classification_report"
      ]
    },
    {
      "cell_type": "code",
      "execution_count": 22,
      "id": "6151b07b",
      "metadata": {
        "colab": {
          "base_uri": "https://localhost:8080/"
        },
        "id": "6151b07b",
        "outputId": "ff21fe68-2fe1-4b6a-eabf-637312181f54"
      },
      "outputs": [
        {
          "output_type": "stream",
          "name": "stdout",
          "text": [
            "              precision    recall  f1-score   support\n",
            "\n",
            "      Arabic       1.00      0.98      0.99       300\n",
            "     Chinese       0.80      0.32      0.46       291\n",
            "       Dutch       0.40      0.95      0.56       313\n",
            "     English       0.87      0.89      0.88       289\n",
            "    Estonian       0.94      0.92      0.93       308\n",
            "      French       0.94      0.91      0.93       287\n",
            "       Hindi       0.97      0.96      0.96       314\n",
            "  Indonesian       0.97      0.97      0.97       295\n",
            "    Japanese       0.90      0.43      0.58       302\n",
            "      Korean       0.99      0.89      0.94       296\n",
            "       Latin       0.86      0.88      0.87       312\n",
            "     Persian       0.99      0.99      0.99       299\n",
            "   Portugese       0.96      0.94      0.95       293\n",
            "      Pushto       0.98      0.96      0.97       303\n",
            "    Romanian       0.95      0.95      0.95       291\n",
            "     Russian       0.99      0.93      0.96       302\n",
            "     Spanish       0.89      0.94      0.91       287\n",
            "     Swedish       0.99      0.99      0.99       290\n",
            "       Tamil       1.00      0.96      0.98       301\n",
            "        Thai       1.00      0.93      0.96       305\n",
            "     Turkish       0.96      0.95      0.95       298\n",
            "        Urdu       0.99      0.96      0.97       324\n",
            "\n",
            "    accuracy                           0.89      6600\n",
            "   macro avg       0.92      0.89      0.89      6600\n",
            "weighted avg       0.92      0.89      0.89      6600\n",
            "\n"
          ]
        }
      ],
      "source": [
        "#Classification report \n",
        "classification=classification_report(y_test,tree_pred)\n",
        "print(classification)"
      ]
    },
    {
      "cell_type": "markdown",
      "id": "4f93b3c0",
      "metadata": {
        "id": "4f93b3c0"
      },
      "source": [
        "# Confusion_matrix"
      ]
    },
    {
      "cell_type": "code",
      "execution_count": 23,
      "id": "a6c5336c",
      "metadata": {
        "colab": {
          "base_uri": "https://localhost:8080/",
          "height": 636
        },
        "id": "a6c5336c",
        "outputId": "6f623866-e84f-430d-c58a-4a69f0da18c4"
      },
      "outputs": [
        {
          "output_type": "display_data",
          "data": {
            "text/plain": [
              "<Figure size 1080x720 with 2 Axes>"
            ],
            "image/png": "[encoded data removed]"
          },
          "metadata": {
            "needs_background": "light"
          }
        }
      ],
      "source": [
        "confusion=confusion_matrix(y_test,tree_pred)\n",
        "plt.figure(figsize=(15,10))\n",
        "sns.heatmap(confusion,annot=True,cmap='jet',xticklabels=['Estonian', 'Swedish', 'Thai', 'Tamil', 'Dutch', 'Japanese',\n",
        "       'Turkish', 'Latin', 'Urdu', 'Indonesian', 'Portugese', 'French',\n",
        "       'Chinese', 'Korean', 'Hindi', 'Spanish', 'Pushto', 'Persian',\n",
        "       'Romanian', 'Russian', 'English', 'Arabic'], yticklabels=['Estonian', 'Swedish', 'Thai', 'Tamil', 'Dutch', 'Japanese',\n",
        "       'Turkish', 'Latin', 'Urdu', 'Indonesian', 'Portugese', 'French',\n",
        "       'Chinese', 'Korean', 'Hindi', 'Spanish', 'Pushto', 'Persian',\n",
        "       'Romanian', 'Russian', 'English', 'Arabic'])\n",
        "plt.show()"
      ]
    },
    {
      "cell_type": "markdown",
      "id": "6fa1a674",
      "metadata": {
        "id": "6fa1a674"
      },
      "source": [
        "# BernoulliNB"
      ]
    },
    {
      "cell_type": "code",
      "execution_count": 24,
      "id": "29180f39",
      "metadata": {
        "colab": {
          "base_uri": "https://localhost:8080/"
        },
        "id": "29180f39",
        "outputId": "3891d21b-e693-4ff6-fd26-29deaf3dca94"
      },
      "outputs": [
        {
          "output_type": "execute_result",
          "data": {
            "text/plain": [
              "BernoulliNB()"
            ]
          },
          "metadata": {},
          "execution_count": 24
        }
      ],
      "source": [
        "#Import the BernoulliNB algorithm to train the our model\n",
        "from sklearn.naive_bayes import BernoulliNB\n",
        "#install the model\n",
        "bernoulli=BernoulliNB()\n",
        "#fit the train data to our model\n",
        "bernoulli.fit(X_train,y_train)"
      ]
    },
    {
      "cell_type": "code",
      "execution_count": 25,
      "id": "4187fe13",
      "metadata": {
        "colab": {
          "base_uri": "https://localhost:8080/"
        },
        "id": "4187fe13",
        "outputId": "03076077-5648-410d-b175-f55eb985b63f"
      },
      "outputs": [
        {
          "output_type": "execute_result",
          "data": {
            "text/plain": [
              "array(['Japanese', 'Russian', 'Latin', ..., 'Spanish', 'Arabic',\n",
              "       'Estonian'], dtype='<U10')"
            ]
          },
          "metadata": {},
          "execution_count": 25
        }
      ],
      "source": [
        "#Prediction\n",
        "bernoulli_pred=bernoulli.predict(X_test)\n",
        "bernoulli_pred"
      ]
    },
    {
      "cell_type": "code",
      "execution_count": 26,
      "id": "5de4eb96",
      "metadata": {
        "colab": {
          "base_uri": "https://localhost:8080/"
        },
        "id": "5de4eb96",
        "outputId": "e8379107-41fe-4caa-d241-b1369a853ebd"
      },
      "outputs": [
        {
          "output_type": "stream",
          "name": "stdout",
          "text": [
            "BernoulliNB score for test data:91.15%\n",
            "BernoulliNBfor train data:96.43%\n",
            "accuracy_score: 91.15%\n"
          ]
        }
      ],
      "source": [
        "#Let's print the train score and test score to the model\n",
        "print('BernoulliNB score for test data:{}%'.format(round(bernoulli.score(X_test,y_test)*100,2)))\n",
        "print('BernoulliNBfor train data:{}%'.format(round(bernoulli.score(X_train,y_train)*100,2)))\n",
        "#print the accuracy_score\n",
        "print('accuracy_score: {}%'.format(round(accuracy_score(y_test,bernoulli_pred)*100,2)))"
      ]
    },
    {
      "cell_type": "markdown",
      "id": "9e88995c",
      "metadata": {
        "id": "9e88995c"
      },
      "source": [
        "# Classification_report"
      ]
    },
    {
      "cell_type": "code",
      "execution_count": 27,
      "id": "c8121b77",
      "metadata": {
        "colab": {
          "base_uri": "https://localhost:8080/"
        },
        "id": "c8121b77",
        "outputId": "cc03cbda-0a0f-427c-c692-607e2adf6aba"
      },
      "outputs": [
        {
          "output_type": "stream",
          "name": "stdout",
          "text": [
            "              precision    recall  f1-score   support\n",
            "\n",
            "      Arabic       1.00      0.93      0.96       300\n",
            "     Chinese       0.36      0.99      0.53       291\n",
            "       Dutch       1.00      0.97      0.98       313\n",
            "     English       0.84      0.99      0.90       289\n",
            "    Estonian       1.00      0.84      0.91       308\n",
            "      French       0.97      0.98      0.98       287\n",
            "       Hindi       1.00      0.97      0.99       314\n",
            "  Indonesian       1.00      0.98      0.99       295\n",
            "    Japanese       0.94      0.50      0.65       302\n",
            "      Korean       1.00      0.71      0.83       296\n",
            "       Latin       1.00      0.83      0.90       312\n",
            "     Persian       1.00      0.99      0.99       299\n",
            "   Portugese       1.00      0.94      0.97       293\n",
            "      Pushto       1.00      0.94      0.97       303\n",
            "    Romanian       1.00      0.98      0.99       291\n",
            "     Russian       1.00      0.84      0.91       302\n",
            "     Spanish       0.99      0.98      0.99       287\n",
            "     Swedish       1.00      1.00      1.00       290\n",
            "       Tamil       1.00      0.99      0.99       301\n",
            "        Thai       1.00      0.89      0.94       305\n",
            "     Turkish       1.00      0.95      0.97       298\n",
            "        Urdu       1.00      0.90      0.95       324\n",
            "\n",
            "    accuracy                           0.91      6600\n",
            "   macro avg       0.96      0.91      0.92      6600\n",
            "weighted avg       0.96      0.91      0.92      6600\n",
            "\n"
          ]
        }
      ],
      "source": [
        "#Classification report \n",
        "classification=classification_report(y_test,bernoulli_pred)\n",
        "print(classification)"
      ]
    },
    {
      "cell_type": "markdown",
      "id": "e28b1d60",
      "metadata": {
        "id": "e28b1d60"
      },
      "source": [
        "# Confusion_matrix "
      ]
    },
    {
      "cell_type": "code",
      "execution_count": 28,
      "id": "0a796b66",
      "metadata": {
        "colab": {
          "base_uri": "https://localhost:8080/",
          "height": 636
        },
        "id": "0a796b66",
        "outputId": "e579cd45-44eb-4239-f991-337e85194145"
      },
      "outputs": [
        {
          "output_type": "display_data",
          "data": {
            "text/plain": [
              "<Figure size 1080x720 with 2 Axes>"
            ],
            "image/png": "[encoded data removed]"
          },
          "metadata": {
            "needs_background": "light"
          }
        }
      ],
      "source": [
        "confusion=confusion_matrix(y_test,bernoulli_pred)\n",
        "plt.figure(figsize=(15,10))\n",
        "sns.heatmap(confusion,annot=True,cmap='Reds',xticklabels=['Estonian', 'Swedish', 'Thai', 'Tamil', 'Dutch', 'Japanese',\n",
        "       'Turkish', 'Latin', 'Urdu', 'Indonesian', 'Portugese', 'French',\n",
        "       'Chinese', 'Korean', 'Hindi', 'Spanish', 'Pushto', 'Persian',\n",
        "       'Romanian', 'Russian', 'English', 'Arabic'], yticklabels=['Estonian', 'Swedish', 'Thai', 'Tamil', 'Dutch', 'Japanese',\n",
        "       'Turkish', 'Latin', 'Urdu', 'Indonesian', 'Portugese', 'French',\n",
        "       'Chinese', 'Korean', 'Hindi', 'Spanish', 'Pushto', 'Persian',\n",
        "       'Romanian', 'Russian', 'English', 'Arabic'])\n",
        "plt.show()"
      ]
    },
    {
      "cell_type": "markdown",
      "id": "db3f6176",
      "metadata": {
        "id": "db3f6176"
      },
      "source": [
        "# RandomForestClassifier"
      ]
    },
    {
      "cell_type": "code",
      "execution_count": 29,
      "id": "b7f86585",
      "metadata": {
        "colab": {
          "base_uri": "https://localhost:8080/"
        },
        "id": "b7f86585",
        "outputId": "a400a7d1-6dbb-45a0-8c5d-3174302df601"
      },
      "outputs": [
        {
          "output_type": "execute_result",
          "data": {
            "text/plain": [
              "RandomForestClassifier()"
            ]
          },
          "metadata": {},
          "execution_count": 29
        }
      ],
      "source": [
        "#Import the GaussianNB algorithm to train the our model\n",
        "from sklearn.ensemble import RandomForestClassifier\n",
        "#install the model\n",
        "random=RandomForestClassifier()\n",
        "#fit the model to train data\n",
        "random.fit(X_train,y_train)"
      ]
    },
    {
      "cell_type": "code",
      "execution_count": 30,
      "id": "9896fcae",
      "metadata": {
        "colab": {
          "base_uri": "https://localhost:8080/"
        },
        "id": "9896fcae",
        "outputId": "654a2542-843b-4a1f-ba2f-d1c8647ac687"
      },
      "outputs": [
        {
          "output_type": "execute_result",
          "data": {
            "text/plain": [
              "array(['Japanese', 'Russian', 'Latin', ..., 'Spanish', 'Arabic',\n",
              "       'Estonian'], dtype=object)"
            ]
          },
          "metadata": {},
          "execution_count": 30
        }
      ],
      "source": [
        "#Prediction\n",
        "random_pred=random.predict(X_test)\n",
        "random_pred"
      ]
    },
    {
      "cell_type": "code",
      "execution_count": 31,
      "id": "4ead6d80",
      "metadata": {
        "colab": {
          "base_uri": "https://localhost:8080/"
        },
        "id": "4ead6d80",
        "outputId": "14d3f6d8-1056-45f7-8746-15ab27389764"
      },
      "outputs": [
        {
          "output_type": "stream",
          "name": "stdout",
          "text": [
            "BernoulliNB score for test data:91.88%\n",
            "BernoulliNBfor train data:100.0%\n",
            "accuracy_score: 91.88%\n"
          ]
        }
      ],
      "source": [
        "#Let's print the train score and test score to the model\n",
        "print('BernoulliNB score for test data:{}%'.format(round(random.score(X_test,y_test)*100,2)))\n",
        "print('BernoulliNBfor train data:{}%'.format(round(random.score(X_train,y_train)*100,2)))\n",
        "#print the accuracy_score\n",
        "print('accuracy_score: {}%'.format(round(accuracy_score(y_test,random_pred)*100,2)))"
      ]
    },
    {
      "cell_type": "markdown",
      "id": "cbcee1e9",
      "metadata": {
        "id": "cbcee1e9"
      },
      "source": [
        "# Classification_report"
      ]
    },
    {
      "cell_type": "code",
      "execution_count": 32,
      "id": "c70426a5",
      "metadata": {
        "colab": {
          "base_uri": "https://localhost:8080/"
        },
        "id": "c70426a5",
        "outputId": "1266981a-1302-4044-fd97-d222ba436bba"
      },
      "outputs": [
        {
          "output_type": "stream",
          "name": "stdout",
          "text": [
            "              precision    recall  f1-score   support\n",
            "\n",
            "      Arabic       1.00      0.99      1.00       300\n",
            "     Chinese       0.86      0.30      0.45       291\n",
            "       Dutch       0.43      0.98      0.60       313\n",
            "     English       0.81      0.99      0.89       289\n",
            "    Estonian       0.99      0.96      0.97       308\n",
            "      French       0.96      0.98      0.97       287\n",
            "       Hindi       1.00      0.98      0.99       314\n",
            "  Indonesian       0.99      0.98      0.98       295\n",
            "    Japanese       0.99      0.38      0.55       302\n",
            "      Korean       1.00      0.93      0.97       296\n",
            "       Latin       0.96      0.93      0.95       312\n",
            "     Persian       1.00      0.99      0.99       299\n",
            "   Portugese       0.99      0.99      0.99       293\n",
            "      Pushto       1.00      0.96      0.98       303\n",
            "    Romanian       1.00      0.98      0.99       291\n",
            "     Russian       0.99      0.96      0.97       302\n",
            "     Spanish       0.99      0.98      0.98       287\n",
            "     Swedish       1.00      1.00      1.00       290\n",
            "       Tamil       1.00      0.99      0.99       301\n",
            "        Thai       1.00      0.97      0.99       305\n",
            "     Turkish       1.00      0.98      0.99       298\n",
            "        Urdu       1.00      0.97      0.99       324\n",
            "\n",
            "    accuracy                           0.92      6600\n",
            "   macro avg       0.95      0.92      0.92      6600\n",
            "weighted avg       0.95      0.92      0.92      6600\n",
            "\n"
          ]
        }
      ],
      "source": [
        "#Classification report \n",
        "classification=classification_report(y_test,random_pred)\n",
        "print(classification)"
      ]
    },
    {
      "cell_type": "markdown",
      "id": "f691c5ba",
      "metadata": {
        "id": "f691c5ba"
      },
      "source": [
        "# Confusion_matrix"
      ]
    },
    {
      "cell_type": "code",
      "execution_count": 33,
      "id": "1c3e8f27",
      "metadata": {
        "colab": {
          "base_uri": "https://localhost:8080/",
          "height": 636
        },
        "id": "1c3e8f27",
        "outputId": "184c0eb8-323d-4e33-f9bd-afef01adf871"
      },
      "outputs": [
        {
          "output_type": "display_data",
          "data": {
            "text/plain": [
              "<Figure size 1080x720 with 2 Axes>"
            ],
            "image/png": "[encoded data removed]"
          },
          "metadata": {
            "needs_background": "light"
          }
        }
      ],
      "source": [
        "confusion=confusion_matrix(y_test,random_pred)\n",
        "plt.figure(figsize=(15,10))\n",
        "sns.heatmap(confusion,annot=True,cmap='Pastel1',xticklabels=['Estonian', 'Swedish', 'Thai', 'Tamil', 'Dutch', 'Japanese',\n",
        "       'Turkish', 'Latin', 'Urdu', 'Indonesian', 'Portugese', 'French',\n",
        "       'Chinese', 'Korean', 'Hindi', 'Spanish', 'Pushto', 'Persian',\n",
        "       'Romanian', 'Russian', 'English', 'Arabic'], yticklabels=['Estonian', 'Swedish', 'Thai', 'Tamil', 'Dutch', 'Japanese',\n",
        "       'Turkish', 'Latin', 'Urdu', 'Indonesian', 'Portugese', 'French',\n",
        "       'Chinese', 'Korean', 'Hindi', 'Spanish', 'Pushto', 'Persian',\n",
        "       'Romanian', 'Russian', 'English', 'Arabic'])\n",
        "plt.show()"
      ]
    },
    {
      "cell_type": "code",
      "execution_count": 34,
      "id": "85abf7d5",
      "metadata": {
        "id": "85abf7d5"
      },
      "outputs": [],
      "source": [
        "# helper function for comparing models matric\n",
        "\n",
        "def compare_models(models,names,X_train,y_train,X_test,y_test):\n",
        "    # the libraries we need\n",
        "    import sklearn.metrics as metrics\n",
        "\n",
        "    for (model,name) in zip(models,names):\n",
        "      print(name)\n",
        "      # then predict on the test set\n",
        "      y_pred =  model.predict(X_test)\n",
        "      res = classification_report(y_test,y_pred)\n",
        "      print(\"Classification Report \\n\",res)\n",
        "      print(\"---------------------------------------------------------------------------------------\")\n"
      ]
    },
    {
      "cell_type": "code",
      "execution_count": 35,
      "id": "543e60e3",
      "metadata": {
        "colab": {
          "base_uri": "https://localhost:8080/"
        },
        "id": "543e60e3",
        "outputId": "ae71e3a3-e0cc-490a-f268-7f3206517399"
      },
      "outputs": [
        {
          "output_type": "stream",
          "name": "stdout",
          "text": [
            "multinomial\n",
            "Classification Report \n",
            "               precision    recall  f1-score   support\n",
            "\n",
            "      Arabic       1.00      1.00      1.00       300\n",
            "     Chinese       0.74      0.85      0.79       291\n",
            "       Dutch       0.99      0.98      0.99       313\n",
            "     English       0.68      1.00      0.81       289\n",
            "    Estonian       0.99      0.96      0.98       308\n",
            "      French       0.93      0.99      0.96       287\n",
            "       Hindi       1.00      0.98      0.99       314\n",
            "  Indonesian       0.99      0.98      0.98       295\n",
            "    Japanese       0.99      0.62      0.76       302\n",
            "      Korean       1.00      0.98      0.99       296\n",
            "       Latin       0.99      0.91      0.94       312\n",
            "     Persian       1.00      1.00      1.00       299\n",
            "   Portugese       1.00      0.96      0.98       293\n",
            "      Pushto       1.00      0.97      0.98       303\n",
            "    Romanian       0.98      0.98      0.98       291\n",
            "     Russian       0.98      0.99      0.99       302\n",
            "     Spanish       0.96      0.99      0.98       287\n",
            "     Swedish       0.99      1.00      1.00       290\n",
            "       Tamil       1.00      0.99      0.99       301\n",
            "        Thai       1.00      0.98      0.99       305\n",
            "     Turkish       0.99      0.98      0.99       298\n",
            "        Urdu       1.00      0.98      0.99       324\n",
            "\n",
            "    accuracy                           0.96      6600\n",
            "   macro avg       0.96      0.96      0.96      6600\n",
            "weighted avg       0.97      0.96      0.96      6600\n",
            "\n",
            "---------------------------------------------------------------------------------------\n",
            "bernoulli\n",
            "Classification Report \n",
            "               precision    recall  f1-score   support\n",
            "\n",
            "      Arabic       1.00      0.93      0.96       300\n",
            "     Chinese       0.36      0.99      0.53       291\n",
            "       Dutch       1.00      0.97      0.98       313\n",
            "     English       0.84      0.99      0.90       289\n",
            "    Estonian       1.00      0.84      0.91       308\n",
            "      French       0.97      0.98      0.98       287\n",
            "       Hindi       1.00      0.97      0.99       314\n",
            "  Indonesian       1.00      0.98      0.99       295\n",
            "    Japanese       0.94      0.50      0.65       302\n",
            "      Korean       1.00      0.71      0.83       296\n",
            "       Latin       1.00      0.83      0.90       312\n",
            "     Persian       1.00      0.99      0.99       299\n",
            "   Portugese       1.00      0.94      0.97       293\n",
            "      Pushto       1.00      0.94      0.97       303\n",
            "    Romanian       1.00      0.98      0.99       291\n",
            "     Russian       1.00      0.84      0.91       302\n",
            "     Spanish       0.99      0.98      0.99       287\n",
            "     Swedish       1.00      1.00      1.00       290\n",
            "       Tamil       1.00      0.99      0.99       301\n",
            "        Thai       1.00      0.89      0.94       305\n",
            "     Turkish       1.00      0.95      0.97       298\n",
            "        Urdu       1.00      0.90      0.95       324\n",
            "\n",
            "    accuracy                           0.91      6600\n",
            "   macro avg       0.96      0.91      0.92      6600\n",
            "weighted avg       0.96      0.91      0.92      6600\n",
            "\n",
            "---------------------------------------------------------------------------------------\n",
            "decisiontreeclassifier\n",
            "Classification Report \n",
            "               precision    recall  f1-score   support\n",
            "\n",
            "      Arabic       1.00      0.98      0.99       300\n",
            "     Chinese       0.80      0.32      0.46       291\n",
            "       Dutch       0.40      0.95      0.56       313\n",
            "     English       0.87      0.89      0.88       289\n",
            "    Estonian       0.94      0.92      0.93       308\n",
            "      French       0.94      0.91      0.93       287\n",
            "       Hindi       0.97      0.96      0.96       314\n",
            "  Indonesian       0.97      0.97      0.97       295\n",
            "    Japanese       0.90      0.43      0.58       302\n",
            "      Korean       0.99      0.89      0.94       296\n",
            "       Latin       0.86      0.88      0.87       312\n",
            "     Persian       0.99      0.99      0.99       299\n",
            "   Portugese       0.96      0.94      0.95       293\n",
            "      Pushto       0.98      0.96      0.97       303\n",
            "    Romanian       0.95      0.95      0.95       291\n",
            "     Russian       0.99      0.93      0.96       302\n",
            "     Spanish       0.89      0.94      0.91       287\n",
            "     Swedish       0.99      0.99      0.99       290\n",
            "       Tamil       1.00      0.96      0.98       301\n",
            "        Thai       1.00      0.93      0.96       305\n",
            "     Turkish       0.96      0.95      0.95       298\n",
            "        Urdu       0.99      0.96      0.97       324\n",
            "\n",
            "    accuracy                           0.89      6600\n",
            "   macro avg       0.92      0.89      0.89      6600\n",
            "weighted avg       0.92      0.89      0.89      6600\n",
            "\n",
            "---------------------------------------------------------------------------------------\n",
            "randomtreeclassifier\n",
            "Classification Report \n",
            "               precision    recall  f1-score   support\n",
            "\n",
            "      Arabic       1.00      0.99      1.00       300\n",
            "     Chinese       0.86      0.30      0.45       291\n",
            "       Dutch       0.43      0.98      0.60       313\n",
            "     English       0.81      0.99      0.89       289\n",
            "    Estonian       0.99      0.96      0.97       308\n",
            "      French       0.96      0.98      0.97       287\n",
            "       Hindi       1.00      0.98      0.99       314\n",
            "  Indonesian       0.99      0.98      0.98       295\n",
            "    Japanese       0.99      0.38      0.55       302\n",
            "      Korean       1.00      0.93      0.97       296\n",
            "       Latin       0.96      0.93      0.95       312\n",
            "     Persian       1.00      0.99      0.99       299\n",
            "   Portugese       0.99      0.99      0.99       293\n",
            "      Pushto       1.00      0.96      0.98       303\n",
            "    Romanian       1.00      0.98      0.99       291\n",
            "     Russian       0.99      0.96      0.97       302\n",
            "     Spanish       0.99      0.98      0.98       287\n",
            "     Swedish       1.00      1.00      1.00       290\n",
            "       Tamil       1.00      0.99      0.99       301\n",
            "        Thai       1.00      0.97      0.99       305\n",
            "     Turkish       1.00      0.98      0.99       298\n",
            "        Urdu       1.00      0.97      0.99       324\n",
            "\n",
            "    accuracy                           0.92      6600\n",
            "   macro avg       0.95      0.92      0.92      6600\n",
            "weighted avg       0.95      0.92      0.92      6600\n",
            "\n",
            "---------------------------------------------------------------------------------------\n"
          ]
        }
      ],
      "source": [
        "# list of model objects\n",
        "models= [multinomial,bernoulli,tree, random ]\n",
        "# list of model names\n",
        "names = ['multinomial', 'bernoulli','decisiontreeclassifier', 'randomtreeclassifier']\n",
        "# print the comparison of models\n",
        "compare_models(models,names,X_train,y_train,X_test,y_test)"
      ]
    },
    {
      "cell_type": "markdown",
      "id": "5546a31c",
      "metadata": {
        "id": "5546a31c"
      },
      "source": [
        "# Let's check the our model predict the  languages using multinomi algorithms"
      ]
    },
    {
      "cell_type": "code",
      "execution_count": 36,
      "id": "5493d6a7",
      "metadata": {
        "colab": {
          "base_uri": "https://localhost:8080/",
          "height": 38
        },
        "id": "5493d6a7",
        "outputId": "8813bdd3-f855-4130-9fc7-d94cb8a143fd"
      },
      "outputs": [
        {
          "output_type": "execute_result",
          "data": {
            "text/plain": [
              "'Prediction is Turkish'"
            ],
            "application/vnd.google.colaboratory.intrinsic+json": {
              "type": "string"
            }
          },
          "metadata": {},
          "execution_count": 36
        }
      ],
      "source": [
        "text = \"\"\"Türkiye Cumhuriyeti güçlüdür ve \n",
        "ilelebet baki kalacaktır.\"\"\"\n",
        "text=[text]\n",
        "text_int=tfid.transform(text)\n",
        "prediction=multinomial.predict(text_int)\n",
        "f\"Prediction is {prediction[0]}\""
      ]
    },
    {
      "cell_type": "code",
      "execution_count": 37,
      "id": "808cd1b2",
      "metadata": {
        "colab": {
          "base_uri": "https://localhost:8080/",
          "height": 38
        },
        "id": "808cd1b2",
        "outputId": "1945103e-bb6b-4924-c2fa-1793bd25ff6d"
      },
      "outputs": [
        {
          "output_type": "execute_result",
          "data": {
            "text/plain": [
              "'Prediction is Tamil'"
            ],
            "application/vnd.google.colaboratory.intrinsic+json": {
              "type": "string"
            }
          },
          "metadata": {},
          "execution_count": 37
        }
      ],
      "source": [
        "text = \"\"\"விசாகப்பட்டினம் தமிழ்ச்சங்கத்தை இந்துப் பத்திரிகை-விசாகப்பட்டின ஆசிரியர் சம்பத்துடன் இணைந்து விரிவுபடுத்தினார் ஆண்டுகள் தொடர்ந்து செயலராக இருந்து தமிழ்மன்றத்தை நடத்திச் சென்றார் கோவை செம்மொழி மாநாட்டில் \"தமிழ்ச்சங்கங்களும் தமிழும்\" .\"\"\"\n",
        "text=[text]\n",
        "text_int=tfid.transform(text)\n",
        "prediction=multinomial.predict(text_int)\n",
        "f\"Prediction is {prediction[0]}\""
      ]
    },
    {
      "cell_type": "code",
      "execution_count": 38,
      "id": "12a92bec",
      "metadata": {
        "colab": {
          "base_uri": "https://localhost:8080/",
          "height": 38
        },
        "id": "12a92bec",
        "outputId": "9b098eb5-59ba-4ddf-9d3f-c6543fc594f3"
      },
      "outputs": [
        {
          "output_type": "execute_result",
          "data": {
            "text/plain": [
              "'Prediction is Thai'"
            ],
            "application/vnd.google.colaboratory.intrinsic+json": {
              "type": "string"
            }
          },
          "metadata": {},
          "execution_count": 38
        }
      ],
      "source": [
        "text = \"\"\"ถนนเจริญกรุง อักษรโรมัน thanon charoen krung เริ่มตั้งแต่ถนนสนามไชยถึงแม่น้ำเจ้าพระยาที่ถนนตก กรุงเทพมหานคร เป็นถนนรุ่นแรกที่ใช้เทคนิคการสร้างแบบตะวันตก ปัจจุบันผ่านพื้\"\"\"\n",
        "text=[text]\n",
        "text_int=tfid.transform(text)\n",
        "prediction=multinomial.predict(text_int)\n",
        "f\"Prediction is {prediction[0]}\""
      ]
    },
    {
      "cell_type": "code",
      "execution_count": 39,
      "id": "6e80cb80",
      "metadata": {
        "colab": {
          "base_uri": "https://localhost:8080/",
          "height": 38
        },
        "id": "6e80cb80",
        "outputId": "678e59ee-2580-41e4-f905-b23ebac6a301"
      },
      "outputs": [
        {
          "output_type": "execute_result",
          "data": {
            "text/plain": [
              "'Prediction is English'"
            ],
            "application/vnd.google.colaboratory.intrinsic+json": {
              "type": "string"
            }
          },
          "metadata": {},
          "execution_count": 39
        }
      ],
      "source": [
        "text = \"\"\"I have two friends with theri hapeens my relative shows.\"\"\"\n",
        "text=[text]\n",
        "text_int=tfid.transform(text)\n",
        "prediction=multinomial.predict(text_int)\n",
        "f\"Prediction is {prediction[0]}\""
      ]
    },
    {
      "cell_type": "markdown",
      "id": "c353659d",
      "metadata": {
        "id": "c353659d"
      },
      "source": [
        "# Finally our multinomial modle predict the good result to the test data with accuracy_score 96% "
      ]
    },
    {
      "cell_type": "markdown",
      "id": "9eeb9e2f",
      "metadata": {
        "id": "9eeb9e2f"
      },
      "source": [
        "# Let's check the our model predict the  languages using bernoulli algorithms"
      ]
    },
    {
      "cell_type": "code",
      "execution_count": 40,
      "id": "f18091d5",
      "metadata": {
        "colab": {
          "base_uri": "https://localhost:8080/",
          "height": 38
        },
        "id": "f18091d5",
        "outputId": "c9e74364-6a95-4779-bfb7-c27a60a7ca7a"
      },
      "outputs": [
        {
          "output_type": "execute_result",
          "data": {
            "text/plain": [
              "'Prediction is Chinese'"
            ],
            "application/vnd.google.colaboratory.intrinsic+json": {
              "type": "string"
            }
          },
          "metadata": {},
          "execution_count": 40
        }
      ],
      "source": [
        "text = \"\"\"Türkiye Cumhuriyeti güçlüdür ve \n",
        "ilelebet baki kalacaktır.\"\"\"\n",
        "text=[text]\n",
        "text_int=tfid.transform(text)\n",
        "prediction=bernoulli.predict(text_int)\n",
        "f\"Prediction is {prediction[0]}\""
      ]
    },
    {
      "cell_type": "code",
      "execution_count": 41,
      "id": "addd73aa",
      "metadata": {
        "colab": {
          "base_uri": "https://localhost:8080/",
          "height": 38
        },
        "id": "addd73aa",
        "outputId": "3845279f-6bb1-4167-e091-e5ca2e9ad495"
      },
      "outputs": [
        {
          "output_type": "execute_result",
          "data": {
            "text/plain": [
              "'Prediction is Tamil'"
            ],
            "application/vnd.google.colaboratory.intrinsic+json": {
              "type": "string"
            }
          },
          "metadata": {},
          "execution_count": 41
        }
      ],
      "source": [
        "text = \"\"\"விசாகப்பட்டினம் தமிழ்ச்சங்கத்தை இந்துப் பத்திரிகை-விசாகப்பட்டின ஆசிரியர் சம்பத்துடன் இணைந்து விரிவுபடுத்தினார் ஆண்டுகள் தொடர்ந்து செயலராக இருந்து தமிழ்மன்றத்தை நடத்திச் சென்றார் கோவை செம்மொழி மாநாட்டில் \"தமிழ்ச்சங்கங்களும் தமிழும்\" .\"\"\"\n",
        "text=[text]\n",
        "text_int=tfid.transform(text)\n",
        "prediction=bernoulli.predict(text_int)\n",
        "f\"Prediction is {prediction[0]}\""
      ]
    },
    {
      "cell_type": "code",
      "execution_count": 42,
      "id": "f318b070",
      "metadata": {
        "colab": {
          "base_uri": "https://localhost:8080/",
          "height": 38
        },
        "id": "f318b070",
        "outputId": "8cdfcd11-40ce-475e-9b52-761df59e8b93"
      },
      "outputs": [
        {
          "output_type": "execute_result",
          "data": {
            "text/plain": [
              "'Prediction is Thai'"
            ],
            "application/vnd.google.colaboratory.intrinsic+json": {
              "type": "string"
            }
          },
          "metadata": {},
          "execution_count": 42
        }
      ],
      "source": [
        "text = \"\"\"ถนนเจริญกรุง อักษรโรมัน thanon charoen krung เริ่มตั้งแต่ถนนสนามไชยถึงแม่น้ำเจ้าพระยาที่ถนนตก กรุงเทพมหานคร เป็นถนนรุ่นแรกที่ใช้เทคนิคการสร้างแบบตะวันตก ปัจจุบันผ่านพื้\"\"\"\n",
        "text=[text]\n",
        "text_int=tfid.transform(text)\n",
        "prediction=bernoulli.predict(text_int)\n",
        "f\"Prediction is {prediction[0]}\""
      ]
    },
    {
      "cell_type": "code",
      "execution_count": 43,
      "id": "e1c0d804",
      "metadata": {
        "colab": {
          "base_uri": "https://localhost:8080/",
          "height": 38
        },
        "id": "e1c0d804",
        "outputId": "525aa546-3611-47c8-f656-0be2f78f6590"
      },
      "outputs": [
        {
          "output_type": "execute_result",
          "data": {
            "text/plain": [
              "'Prediction is Chinese'"
            ],
            "application/vnd.google.colaboratory.intrinsic+json": {
              "type": "string"
            }
          },
          "metadata": {},
          "execution_count": 43
        }
      ],
      "source": [
        "text = \"\"\"I have two friends with theri hapeens my relative shows.\"\"\"\n",
        "text=[text]\n",
        "text_int=tfid.transform(text)\n",
        "prediction=bernoulli.predict(text_int)\n",
        "f\"Prediction is {prediction[0]}\""
      ]
    },
    {
      "cell_type": "markdown",
      "id": "307e19c2",
      "metadata": {
        "id": "307e19c2"
      },
      "source": [
        "# Compare to the multnomial the bernoulli gave not good result so we can' t consider the model"
      ]
    },
    {
      "cell_type": "markdown",
      "id": "92f716ea",
      "metadata": {
        "id": "92f716ea"
      },
      "source": [
        "# Let's check the our model predict the  languages using decisontree algorithms"
      ]
    },
    {
      "cell_type": "code",
      "execution_count": 44,
      "id": "eef6e0ce",
      "metadata": {
        "colab": {
          "base_uri": "https://localhost:8080/",
          "height": 38
        },
        "id": "eef6e0ce",
        "outputId": "153efb51-8219-4d1f-caa8-aadc50e79ee6"
      },
      "outputs": [
        {
          "output_type": "execute_result",
          "data": {
            "text/plain": [
              "'Prediction is Turkish'"
            ],
            "application/vnd.google.colaboratory.intrinsic+json": {
              "type": "string"
            }
          },
          "metadata": {},
          "execution_count": 44
        }
      ],
      "source": [
        "text = \"\"\"Türkiye Cumhuriyeti güçlüdür ve \n",
        "ilelebet baki kalacaktır.\"\"\"\n",
        "text=[text]\n",
        "text_int=tfid.transform(text)\n",
        "prediction=tree.predict(text_int)\n",
        "f\"Prediction is {prediction[0]}\""
      ]
    },
    {
      "cell_type": "code",
      "execution_count": 45,
      "id": "59c632f7",
      "metadata": {
        "colab": {
          "base_uri": "https://localhost:8080/",
          "height": 38
        },
        "id": "59c632f7",
        "outputId": "430e3136-ce6b-42e4-b6dc-9bf817ab00f4"
      },
      "outputs": [
        {
          "output_type": "execute_result",
          "data": {
            "text/plain": [
              "'Prediction is Tamil'"
            ],
            "application/vnd.google.colaboratory.intrinsic+json": {
              "type": "string"
            }
          },
          "metadata": {},
          "execution_count": 45
        }
      ],
      "source": [
        "text = \"\"\"விசாகப்பட்டினம் தமிழ்ச்சங்கத்தை இந்துப் பத்திரிகை-விசாகப்பட்டின ஆசிரியர் சம்பத்துடன் இணைந்து விரிவுபடுத்தினார் ஆண்டுகள் தொடர்ந்து செயலராக இருந்து தமிழ்மன்றத்தை நடத்திச் சென்றார் கோவை செம்மொழி மாநாட்டில் \"தமிழ்ச்சங்கங்களும் தமிழும்\" .\"\"\"\n",
        "text=[text]\n",
        "text_int=tfid.transform(text)\n",
        "prediction=tree.predict(text_int)\n",
        "f\"Prediction is {prediction[0]}\""
      ]
    },
    {
      "cell_type": "code",
      "execution_count": 46,
      "id": "f2e2d5d3",
      "metadata": {
        "colab": {
          "base_uri": "https://localhost:8080/",
          "height": 38
        },
        "id": "f2e2d5d3",
        "outputId": "358da113-aead-4d5a-9d80-81d8c015c8fd"
      },
      "outputs": [
        {
          "output_type": "execute_result",
          "data": {
            "text/plain": [
              "'Prediction is Thai'"
            ],
            "application/vnd.google.colaboratory.intrinsic+json": {
              "type": "string"
            }
          },
          "metadata": {},
          "execution_count": 46
        }
      ],
      "source": [
        "text = \"\"\"ถนนเจริญกรุง อักษรโรมัน thanon charoen krung เริ่มตั้งแต่ถนนสนามไชยถึงแม่น้ำเจ้าพระยาที่ถนนตก กรุงเทพมหานคร เป็นถนนรุ่นแรกที่ใช้เทคนิคการสร้างแบบตะวันตก ปัจจุบันผ่านพื้\"\"\"\n",
        "text=[text]\n",
        "text_int=tfid.transform(text)\n",
        "prediction=tree.predict(text_int)\n",
        "f\"Prediction is {prediction[0]}\""
      ]
    },
    {
      "cell_type": "code",
      "execution_count": 47,
      "id": "36bbe330",
      "metadata": {
        "colab": {
          "base_uri": "https://localhost:8080/",
          "height": 38
        },
        "id": "36bbe330",
        "outputId": "fcd67577-0879-42b8-98d1-fc374103a99c"
      },
      "outputs": [
        {
          "output_type": "execute_result",
          "data": {
            "text/plain": [
              "'Prediction is Dutch'"
            ],
            "application/vnd.google.colaboratory.intrinsic+json": {
              "type": "string"
            }
          },
          "metadata": {},
          "execution_count": 47
        }
      ],
      "source": [
        "text = \"\"\"I have two friends with theri hapeens my relative shows.\"\"\"\n",
        "text=[text]\n",
        "text_int=tfid.transform(text)\n",
        "prediction=tree.predict(text_int)\n",
        "f\"Prediction is {prediction[0]}\""
      ]
    },
    {
      "cell_type": "markdown",
      "id": "159c42c3",
      "metadata": {
        "id": "159c42c3"
      },
      "source": [
        "# Compare to the multnomial the decisiontree gave not good result so we can' t consider the model"
      ]
    },
    {
      "cell_type": "markdown",
      "id": "ed0fff2b",
      "metadata": {
        "id": "ed0fff2b"
      },
      "source": [
        "# Let's check the our model predict the  languages using randomforesttree algorithms"
      ]
    },
    {
      "cell_type": "code",
      "execution_count": 48,
      "id": "f04b95d3",
      "metadata": {
        "colab": {
          "base_uri": "https://localhost:8080/",
          "height": 38
        },
        "id": "f04b95d3",
        "outputId": "2c120d06-ec52-47c3-aacc-9067b0696e99"
      },
      "outputs": [
        {
          "output_type": "execute_result",
          "data": {
            "text/plain": [
              "'Prediction is Turkish'"
            ],
            "application/vnd.google.colaboratory.intrinsic+json": {
              "type": "string"
            }
          },
          "metadata": {},
          "execution_count": 48
        }
      ],
      "source": [
        "text = \"\"\"Türkiye Cumhuriyeti güçlüdür ve \n",
        "ilelebet baki kalacaktır.\"\"\"\n",
        "text=[text]\n",
        "text_int=tfid.transform(text)\n",
        "prediction=random.predict(text_int)\n",
        "f\"Prediction is {prediction[0]}\""
      ]
    },
    {
      "cell_type": "code",
      "execution_count": 49,
      "id": "d1379e1c",
      "metadata": {
        "colab": {
          "base_uri": "https://localhost:8080/",
          "height": 38
        },
        "id": "d1379e1c",
        "outputId": "a256e458-d496-4539-d6c7-5e5b854863c3"
      },
      "outputs": [
        {
          "output_type": "execute_result",
          "data": {
            "text/plain": [
              "'Prediction is Tamil'"
            ],
            "application/vnd.google.colaboratory.intrinsic+json": {
              "type": "string"
            }
          },
          "metadata": {},
          "execution_count": 49
        }
      ],
      "source": [
        "text = \"\"\"விசாகப்பட்டினம் தமிழ்ச்சங்கத்தை இந்துப் பத்திரிகை-விசாகப்பட்டின ஆசிரியர் சம்பத்துடன் இணைந்து விரிவுபடுத்தினார் ஆண்டுகள் தொடர்ந்து செயலராக இருந்து தமிழ்மன்றத்தை நடத்திச் சென்றார் கோவை செம்மொழி மாநாட்டில் \"தமிழ்ச்சங்கங்களும் தமிழும்\" .\"\"\"\n",
        "text=[text]\n",
        "text_int=tfid.transform(text)\n",
        "prediction=random.predict(text_int)\n",
        "f\"Prediction is {prediction[0]}\""
      ]
    },
    {
      "cell_type": "code",
      "execution_count": 50,
      "id": "866a4a2e",
      "metadata": {
        "colab": {
          "base_uri": "https://localhost:8080/",
          "height": 38
        },
        "id": "866a4a2e",
        "outputId": "6fd774d5-7dee-4904-ec36-f9fbccf5fb97"
      },
      "outputs": [
        {
          "output_type": "execute_result",
          "data": {
            "text/plain": [
              "'Prediction is Thai'"
            ],
            "application/vnd.google.colaboratory.intrinsic+json": {
              "type": "string"
            }
          },
          "metadata": {},
          "execution_count": 50
        }
      ],
      "source": [
        "text = \"\"\"ถนนเจริญกรุง อักษรโรมัน thanon charoen krung เริ่มตั้งแต่ถนนสนามไชยถึงแม่น้ำเจ้าพระยาที่ถนนตก กรุงเทพมหานคร เป็นถนนรุ่นแรกที่ใช้เทคนิคการสร้างแบบตะวันตก ปัจจุบันผ่านพื้\"\"\"\n",
        "text=[text]\n",
        "text_int=tfid.transform(text)\n",
        "prediction=random.predict(text_int)\n",
        "f\"Prediction is {prediction[0]}\""
      ]
    },
    {
      "cell_type": "code",
      "execution_count": 51,
      "id": "1aece772",
      "metadata": {
        "colab": {
          "base_uri": "https://localhost:8080/",
          "height": 38
        },
        "id": "1aece772",
        "outputId": "9d90c526-8d12-4c8a-cd8b-58e34926c6b0"
      },
      "outputs": [
        {
          "output_type": "execute_result",
          "data": {
            "text/plain": [
              "'Prediction is Dutch'"
            ],
            "application/vnd.google.colaboratory.intrinsic+json": {
              "type": "string"
            }
          },
          "metadata": {},
          "execution_count": 51
        }
      ],
      "source": [
        "text = \"\"\"I have two friends with theri hapeens my relative shows.\"\"\"\n",
        "text=[text]\n",
        "text_int=tfid.transform(text)\n",
        "prediction=random.predict(text_int)\n",
        "f\"Prediction is {prediction[0]}\""
      ]
    },
    {
      "cell_type": "markdown",
      "id": "349627a7",
      "metadata": {
        "id": "349627a7"
      },
      "source": [
        "# Compare to the multnomial the randomforestclassifier gave not good result so we can' t consider the model"
      ]
    },
    {
      "cell_type": "markdown",
      "id": "7f9ac9dc",
      "metadata": {
        "id": "7f9ac9dc"
      },
      "source": [
        "# Conclusion"
      ]
    },
    {
      "cell_type": "markdown",
      "id": "f8783c78",
      "metadata": {
        "id": "f8783c78"
      },
      "source": [
        "We take the dataset from the kaggle website. The data processing involves several steps such as \n",
        "1.Data loading\n",
        "2.Data preprocessing\n",
        "3.EDA (just basic eda process)\n",
        "4.Data modeling\n",
        "5.Covert the data into vector forms\n",
        "6.Divided the data into train and test\n",
        "7.using the several algorithm to give best accuracy score to the test data set"
      ]
    },
    {
      "cell_type": "code",
      "execution_count": 52,
      "id": "5abf41b3",
      "metadata": {
        "id": "5abf41b3"
      },
      "outputs": [],
      "source": [
        "#Save the model into pickle format\n",
        "import pickle"
      ]
    },
    {
      "cell_type": "code",
      "execution_count": 53,
      "id": "d8f25a8f",
      "metadata": {
        "id": "d8f25a8f"
      },
      "outputs": [],
      "source": [
        "# create an iterator object with write permission - model.pkl\n",
        "with open('multinomial_pkl', 'wb') as files:\n",
        "    pickle.dump(multinomial, files)"
      ]
    },
    {
      "cell_type": "code",
      "execution_count": 53,
      "id": "f7b7f2f5",
      "metadata": {
        "id": "f7b7f2f5"
      },
      "outputs": [],
      "source": []
    }
  ],
  "metadata": {
    "kernelspec": {
      "display_name": "Python 3 (ipykernel)",
      "language": "python",
      "name": "python3"
    },
    "language_info": {
      "codemirror_mode": {
        "name": "ipython",
        "version": 3
      },
      "file_extension": ".py",
      "mimetype": "text/x-python",
      "name": "python",
      "nbconvert_exporter": "python",
      "pygments_lexer": "ipython3",
      "version": "3.9.12"
    },
    "colab": {
      "provenance": [],
      "include_colab_link": true
    }
  },
  "nbformat": 4,
  "nbformat_minor": 5
}